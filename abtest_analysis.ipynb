{
 "cells": [
  {
   "cell_type": "markdown",
   "metadata": {},
   "source": [
    "\n",
    "### План работ:\n",
    "\n",
    "1. [Часть первая приритезация гипотез:](#part1)\n",
    "    - [Примените фреймворк ICE для приоритизации гипотез. Отсортируйте их по убыванию приоритета.](#ice)\n",
    "    - [Примените фреймворк RICE для приоритизации гипотез. Отсортируйте их по убыванию приоритета.](#rice)\n",
    "    - [Укажите, как изменилась приоритизация гипотез при применении RICE вместо ICE. Объясните, почему так произошло.](#itog)\n",
    "\n",
    "2. [Часть вторая анализ А/В теста:](#part2)\n",
    "    - [Постройте график кумулятивной выручки по группам. Сделайте выводы и предположения.](#p1)\n",
    "    - [Постройте график кумулятивного среднего чека по группам. Сделайте выводы и предположения.](#p1)\n",
    "    - [Постройте график относительного изменения кумулятивного среднего чека группы B к группе A. Сделайте выводы и предположения.](#p1)\n",
    "    - [Постройте график кумулятивной конверсии по группам. Сделайте выводы и предположения.](#p2)\n",
    "    - [Постройте график относительного изменения кумулятивной конверсии группы B к группе A. Сделайте выводы и предположения.](#p2)\n",
    "    - [Постройте точечный график количества заказов по пользователям. Сделайте выводы и предположения.](#p3)\n",
    "    - [Посчитайте 95-й и 99-й перцентили количества заказов на пользователя. Выберите границу для определения аномальных пользователей.](#p3)\n",
    "    - [Постройте точечный график стоимостей заказов. Сделайте выводы и предположения.](#p3)\n",
    "    - [Посчитайте 95-й и 99-й перцентили стоимости заказов. Выберите границу для определения аномальных заказов.](#p3)\n",
    "    - [Посчитайте статистическую значимость различий в конверсии между группами по «сырым» данным. Сделайте выводы и предположения.](#p4)\n",
    "    - [Посчитайте статистическую значимость различий в среднем чеке заказа между группами по «сырым» данным. Сделайте выводы и предположения.](#p4)\n",
    "    - [Посчитайте статистическую значимость различий в конверсии между группами по «очищенным» данным. Сделайте выводы и предположения.](#p4)\n",
    "    - [Посчитайте статистическую значимость различий в среднем чеке заказа между группами по «очищенным» данным. Сделайте выводы и предположения.](#p4)\n",
    "    - [Примите решение по результатам теста и объясните его. Варианты решений: 1. Остановить тест, зафиксировать победу одной из групп. 2. Остановить тест, зафиксировать отсутствие различий между группами. 3. Продолжить тест.](#total)\n"
   ]
  },
  {
   "cell_type": "markdown",
   "metadata": {},
   "source": [
    "## Приоретизация гипотез<a id=\"part1\"></a>\n",
    "\n",
    "**Описание данных:**\n",
    "- Hypothesis — краткое описание гипотезы;\n",
    "- Reach — охват пользователей по 10-балльной шкале;\n",
    "- Impact — влияние на пользователей по 10-балльной шкале;\n",
    "- Confidence — уверенность в гипотезе по 10-балльной шкале;\n",
    "- Efforts — затраты ресурсов на проверку гипотезы по 10-балльной шкале. Чем больше значение Efforts, тем дороже проверка гипотезы."
   ]
  },
  {
   "cell_type": "code",
   "execution_count": 1,
   "metadata": {},
   "outputs": [],
   "source": [
    "# импортируем библиотеки которые нам понадобяться\n",
    "import pandas as pd\n",
    "import numpy as np\n",
    "from scipy import stats as st\n",
    "import matplotlib.pyplot as plt\n",
    "import math as mth\n",
    "import datetime as dt\n",
    "from pandas.plotting import register_matplotlib_converters\n",
    "register_matplotlib_converters()"
   ]
  },
  {
   "cell_type": "code",
   "execution_count": 2,
   "metadata": {},
   "outputs": [],
   "source": [
    "def check_data(data):\n",
    "    \"\"\"Функция просмотра данных info describe и проверка пропусков\"\"\"\n",
    "    duplicate_dict = {}\n",
    "    isnull_dict = {}\n",
    "    display(data.info())\n",
    "    display(data.describe())\n",
    "    for value in data.columns:\n",
    "        duplicate_dict[value] = data[value].duplicated().sum()\n",
    "        isnull_dict[value] = data[value].isnull().sum()\n",
    "        tmp_df = pd.DataFrame([duplicate_dict, isnull_dict])\n",
    "    tmp_df.index = ['Дубликатов в колонке', 'Пропусков в колонке']\n",
    "    tmp_df = tmp_df.style.applymap(lambda x: 'color:darkred' if x > 0 else 'color:white')\n",
    "    print(f'Количество строк = {data.shape[0]}, количество столбцов = {data.shape[1]}\\n')\n",
    "    print('Всего дубликатов в таблице = ', data.duplicated().sum())\n",
    "    return display(tmp_df)"
   ]
  },
  {
   "cell_type": "code",
   "execution_count": 3,
   "metadata": {},
   "outputs": [],
   "source": [
    "# откроем датасет с гипотезами\n",
    "try:\n",
    "    hyp_data = pd.read_csv('data/hypothesis.csv') # локальный путь\n",
    "except:\n",
    "    hyp_data = pd.read_csv('/datasets/hypothesis.csv') # путь Яндекса"
   ]
  },
  {
   "cell_type": "code",
   "execution_count": 4,
   "metadata": {},
   "outputs": [
    {
     "name": "stdout",
     "output_type": "stream",
     "text": [
      "<class 'pandas.core.frame.DataFrame'>\n",
      "RangeIndex: 9 entries, 0 to 8\n",
      "Data columns (total 5 columns):\n",
      " #   Column      Non-Null Count  Dtype \n",
      "---  ------      --------------  ----- \n",
      " 0   Hypothesis  9 non-null      object\n",
      " 1   Reach       9 non-null      int64 \n",
      " 2   Impact      9 non-null      int64 \n",
      " 3   Confidence  9 non-null      int64 \n",
      " 4   Efforts     9 non-null      int64 \n",
      "dtypes: int64(4), object(1)\n",
      "memory usage: 488.0+ bytes\n"
     ]
    },
    {
     "data": {
      "text/plain": [
       "None"
      ]
     },
     "metadata": {},
     "output_type": "display_data"
    },
    {
     "data": {
      "text/html": [
       "<div>\n",
       "<style scoped>\n",
       "    .dataframe tbody tr th:only-of-type {\n",
       "        vertical-align: middle;\n",
       "    }\n",
       "\n",
       "    .dataframe tbody tr th {\n",
       "        vertical-align: top;\n",
       "    }\n",
       "\n",
       "    .dataframe thead th {\n",
       "        text-align: right;\n",
       "    }\n",
       "</style>\n",
       "<table border=\"1\" class=\"dataframe\">\n",
       "  <thead>\n",
       "    <tr style=\"text-align: right;\">\n",
       "      <th></th>\n",
       "      <th>Reach</th>\n",
       "      <th>Impact</th>\n",
       "      <th>Confidence</th>\n",
       "      <th>Efforts</th>\n",
       "    </tr>\n",
       "  </thead>\n",
       "  <tbody>\n",
       "    <tr>\n",
       "      <th>count</th>\n",
       "      <td>9.000000</td>\n",
       "      <td>9.000000</td>\n",
       "      <td>9.000000</td>\n",
       "      <td>9.000000</td>\n",
       "    </tr>\n",
       "    <tr>\n",
       "      <th>mean</th>\n",
       "      <td>4.777778</td>\n",
       "      <td>4.777778</td>\n",
       "      <td>5.555556</td>\n",
       "      <td>4.888889</td>\n",
       "    </tr>\n",
       "    <tr>\n",
       "      <th>std</th>\n",
       "      <td>3.153481</td>\n",
       "      <td>3.192874</td>\n",
       "      <td>3.045944</td>\n",
       "      <td>2.803767</td>\n",
       "    </tr>\n",
       "    <tr>\n",
       "      <th>min</th>\n",
       "      <td>1.000000</td>\n",
       "      <td>1.000000</td>\n",
       "      <td>1.000000</td>\n",
       "      <td>1.000000</td>\n",
       "    </tr>\n",
       "    <tr>\n",
       "      <th>25%</th>\n",
       "      <td>3.000000</td>\n",
       "      <td>3.000000</td>\n",
       "      <td>3.000000</td>\n",
       "      <td>3.000000</td>\n",
       "    </tr>\n",
       "    <tr>\n",
       "      <th>50%</th>\n",
       "      <td>3.000000</td>\n",
       "      <td>3.000000</td>\n",
       "      <td>7.000000</td>\n",
       "      <td>5.000000</td>\n",
       "    </tr>\n",
       "    <tr>\n",
       "      <th>75%</th>\n",
       "      <td>8.000000</td>\n",
       "      <td>7.000000</td>\n",
       "      <td>8.000000</td>\n",
       "      <td>6.000000</td>\n",
       "    </tr>\n",
       "    <tr>\n",
       "      <th>max</th>\n",
       "      <td>10.000000</td>\n",
       "      <td>10.000000</td>\n",
       "      <td>9.000000</td>\n",
       "      <td>10.000000</td>\n",
       "    </tr>\n",
       "  </tbody>\n",
       "</table>\n",
       "</div>"
      ],
      "text/plain": [
       "           Reach     Impact  Confidence    Efforts\n",
       "count   9.000000   9.000000    9.000000   9.000000\n",
       "mean    4.777778   4.777778    5.555556   4.888889\n",
       "std     3.153481   3.192874    3.045944   2.803767\n",
       "min     1.000000   1.000000    1.000000   1.000000\n",
       "25%     3.000000   3.000000    3.000000   3.000000\n",
       "50%     3.000000   3.000000    7.000000   5.000000\n",
       "75%     8.000000   7.000000    8.000000   6.000000\n",
       "max    10.000000  10.000000    9.000000  10.000000"
      ]
     },
     "metadata": {},
     "output_type": "display_data"
    },
    {
     "name": "stdout",
     "output_type": "stream",
     "text": [
      "Количество строк = 9, количество столбцов = 5\n",
      "\n",
      "Всего дубликатов в таблице =  0\n"
     ]
    },
    {
     "data": {
      "text/html": [
       "<style  type=\"text/css\" >\n",
       "#T_3d337_row0_col0,#T_3d337_row1_col0,#T_3d337_row1_col1,#T_3d337_row1_col2,#T_3d337_row1_col3,#T_3d337_row1_col4{\n",
       "            color: white;\n",
       "        }#T_3d337_row0_col1,#T_3d337_row0_col2,#T_3d337_row0_col3,#T_3d337_row0_col4{\n",
       "            color: darkred;\n",
       "        }</style><table id=\"T_3d337_\" ><thead>    <tr>        <th class=\"blank level0\" ></th>        <th class=\"col_heading level0 col0\" >Hypothesis</th>        <th class=\"col_heading level0 col1\" >Reach</th>        <th class=\"col_heading level0 col2\" >Impact</th>        <th class=\"col_heading level0 col3\" >Confidence</th>        <th class=\"col_heading level0 col4\" >Efforts</th>    </tr></thead><tbody>\n",
       "                <tr>\n",
       "                        <th id=\"T_3d337_level0_row0\" class=\"row_heading level0 row0\" >Дубликатов в колонке</th>\n",
       "                        <td id=\"T_3d337_row0_col0\" class=\"data row0 col0\" >0</td>\n",
       "                        <td id=\"T_3d337_row0_col1\" class=\"data row0 col1\" >3</td>\n",
       "                        <td id=\"T_3d337_row0_col2\" class=\"data row0 col2\" >2</td>\n",
       "                        <td id=\"T_3d337_row0_col3\" class=\"data row0 col3\" >2</td>\n",
       "                        <td id=\"T_3d337_row0_col4\" class=\"data row0 col4\" >3</td>\n",
       "            </tr>\n",
       "            <tr>\n",
       "                        <th id=\"T_3d337_level0_row1\" class=\"row_heading level0 row1\" >Пропусков в колонке</th>\n",
       "                        <td id=\"T_3d337_row1_col0\" class=\"data row1 col0\" >0</td>\n",
       "                        <td id=\"T_3d337_row1_col1\" class=\"data row1 col1\" >0</td>\n",
       "                        <td id=\"T_3d337_row1_col2\" class=\"data row1 col2\" >0</td>\n",
       "                        <td id=\"T_3d337_row1_col3\" class=\"data row1 col3\" >0</td>\n",
       "                        <td id=\"T_3d337_row1_col4\" class=\"data row1 col4\" >0</td>\n",
       "            </tr>\n",
       "    </tbody></table>"
      ],
      "text/plain": [
       "<pandas.io.formats.style.Styler at 0x7f81f6affd60>"
      ]
     },
     "metadata": {},
     "output_type": "display_data"
    }
   ],
   "source": [
    "# просмотрим данные\n",
    "check_data(hyp_data)"
   ]
  },
  {
   "cell_type": "markdown",
   "metadata": {},
   "source": [
    "***Данные содержат 5 колонок и 9 строк, пропусков нет, можно работать дальше, дубликаты здесь обоснованые, так как в разных строках значения могу повторяться но тем не менее это разные гипотезы***"
   ]
  },
  {
   "cell_type": "code",
   "execution_count": 5,
   "metadata": {},
   "outputs": [
    {
     "name": "stdout",
     "output_type": "stream",
     "text": [
      "Самая длинная строка 108\n"
     ]
    }
   ],
   "source": [
    "# найдем самую длинную строку для отобржения всей длинны строки гипотезы\n",
    "# зададим параметр options.display.max_colwidth\n",
    "res = []\n",
    "for s in hyp_data['Hypothesis']:\n",
    "    res.append(len(s))\n",
    "    \n",
    "print('Самая длинная строка',max(res))\n",
    "pd.options.display.max_colwidth = max(res) + 10 # прибавим 10 символом, чтобы наверняка"
   ]
  },
  {
   "cell_type": "code",
   "execution_count": 6,
   "metadata": {},
   "outputs": [
    {
     "data": {
      "text/html": [
       "<div>\n",
       "<style scoped>\n",
       "    .dataframe tbody tr th:only-of-type {\n",
       "        vertical-align: middle;\n",
       "    }\n",
       "\n",
       "    .dataframe tbody tr th {\n",
       "        vertical-align: top;\n",
       "    }\n",
       "\n",
       "    .dataframe thead th {\n",
       "        text-align: right;\n",
       "    }\n",
       "</style>\n",
       "<table border=\"1\" class=\"dataframe\">\n",
       "  <thead>\n",
       "    <tr style=\"text-align: right;\">\n",
       "      <th></th>\n",
       "      <th>Hypothesis</th>\n",
       "      <th>ICE</th>\n",
       "    </tr>\n",
       "  </thead>\n",
       "  <tbody>\n",
       "    <tr>\n",
       "      <th>8</th>\n",
       "      <td>Запустить акцию, дающую скидку на товар в день рождения</td>\n",
       "      <td>16.200000</td>\n",
       "    </tr>\n",
       "    <tr>\n",
       "      <th>0</th>\n",
       "      <td>Добавить два новых канала привлечения трафика, что позволит привлекать на 30% больше пользователей</td>\n",
       "      <td>13.333333</td>\n",
       "    </tr>\n",
       "    <tr>\n",
       "      <th>7</th>\n",
       "      <td>Добавить форму подписки на все основные страницы, чтобы собрать базу клиентов для email-рассылок</td>\n",
       "      <td>11.200000</td>\n",
       "    </tr>\n",
       "    <tr>\n",
       "      <th>6</th>\n",
       "      <td>Показать на главной странице баннеры с актуальными акциями и распродажами, чтобы увеличить конверсию</td>\n",
       "      <td>8.000000</td>\n",
       "    </tr>\n",
       "    <tr>\n",
       "      <th>2</th>\n",
       "      <td>Добавить блоки рекомендаций товаров на сайт интернет магазина, чтобы повысить конверсию и средний чек заказа</td>\n",
       "      <td>7.000000</td>\n",
       "    </tr>\n",
       "    <tr>\n",
       "      <th>1</th>\n",
       "      <td>Запустить собственную службу доставки, что сократит срок доставки заказов</td>\n",
       "      <td>2.000000</td>\n",
       "    </tr>\n",
       "    <tr>\n",
       "      <th>5</th>\n",
       "      <td>Добавить страницу отзывов клиентов о магазине, что позволит увеличить количество заказов</td>\n",
       "      <td>1.333333</td>\n",
       "    </tr>\n",
       "    <tr>\n",
       "      <th>3</th>\n",
       "      <td>Изменить структура категорий, что увеличит конверсию, т.к. пользователи быстрее найдут нужный товар</td>\n",
       "      <td>1.125000</td>\n",
       "    </tr>\n",
       "    <tr>\n",
       "      <th>4</th>\n",
       "      <td>Изменить цвет фона главной страницы, чтобы увеличить вовлеченность пользователей</td>\n",
       "      <td>1.000000</td>\n",
       "    </tr>\n",
       "  </tbody>\n",
       "</table>\n",
       "</div>"
      ],
      "text/plain": [
       "                                                                                                     Hypothesis  \\\n",
       "8                                                       Запустить акцию, дающую скидку на товар в день рождения   \n",
       "0            Добавить два новых канала привлечения трафика, что позволит привлекать на 30% больше пользователей   \n",
       "7              Добавить форму подписки на все основные страницы, чтобы собрать базу клиентов для email-рассылок   \n",
       "6          Показать на главной странице баннеры с актуальными акциями и распродажами, чтобы увеличить конверсию   \n",
       "2  Добавить блоки рекомендаций товаров на сайт интернет магазина, чтобы повысить конверсию и средний чек заказа   \n",
       "1                                     Запустить собственную службу доставки, что сократит срок доставки заказов   \n",
       "5                      Добавить страницу отзывов клиентов о магазине, что позволит увеличить количество заказов   \n",
       "3           Изменить структура категорий, что увеличит конверсию, т.к. пользователи быстрее найдут нужный товар   \n",
       "4                              Изменить цвет фона главной страницы, чтобы увеличить вовлеченность пользователей   \n",
       "\n",
       "         ICE  \n",
       "8  16.200000  \n",
       "0  13.333333  \n",
       "7  11.200000  \n",
       "6   8.000000  \n",
       "2   7.000000  \n",
       "1   2.000000  \n",
       "5   1.333333  \n",
       "3   1.125000  \n",
       "4   1.000000  "
      ]
     },
     "metadata": {},
     "output_type": "display_data"
    }
   ],
   "source": [
    "# воспользуемся ICE фреймфорком для анализа гипотез\n",
    "hyp_data['ICE'] = (hyp_data['Impact'] * hyp_data['Confidence']) / hyp_data['Efforts']\n",
    "display(hyp_data.sort_values(by = 'ICE', ascending = False)[['Hypothesis', 'ICE']])"
   ]
  },
  {
   "cell_type": "markdown",
   "metadata": {},
   "source": [
    "***Согласно ICE лидируют гипотезы:***<a id=\"ice\"></a>\n",
    "1. Запустить акцию, дающую скидку на товар в день рождения\t\n",
    "2. Добавить два новых канала привлечения трафика, что позволит привлекать на 30% больше пользователей\n",
    "3. Добавить форму подписки на все основные страницы, чтобы собрать базу клиентов для email-рассылок\t"
   ]
  },
  {
   "cell_type": "code",
   "execution_count": 7,
   "metadata": {},
   "outputs": [
    {
     "data": {
      "text/html": [
       "<div>\n",
       "<style scoped>\n",
       "    .dataframe tbody tr th:only-of-type {\n",
       "        vertical-align: middle;\n",
       "    }\n",
       "\n",
       "    .dataframe tbody tr th {\n",
       "        vertical-align: top;\n",
       "    }\n",
       "\n",
       "    .dataframe thead th {\n",
       "        text-align: right;\n",
       "    }\n",
       "</style>\n",
       "<table border=\"1\" class=\"dataframe\">\n",
       "  <thead>\n",
       "    <tr style=\"text-align: right;\">\n",
       "      <th></th>\n",
       "      <th>Hypothesis</th>\n",
       "      <th>RICE</th>\n",
       "    </tr>\n",
       "  </thead>\n",
       "  <tbody>\n",
       "    <tr>\n",
       "      <th>7</th>\n",
       "      <td>Добавить форму подписки на все основные страницы, чтобы собрать базу клиентов для email-рассылок</td>\n",
       "      <td>112.0</td>\n",
       "    </tr>\n",
       "    <tr>\n",
       "      <th>2</th>\n",
       "      <td>Добавить блоки рекомендаций товаров на сайт интернет магазина, чтобы повысить конверсию и средний чек заказа</td>\n",
       "      <td>56.0</td>\n",
       "    </tr>\n",
       "    <tr>\n",
       "      <th>0</th>\n",
       "      <td>Добавить два новых канала привлечения трафика, что позволит привлекать на 30% больше пользователей</td>\n",
       "      <td>40.0</td>\n",
       "    </tr>\n",
       "    <tr>\n",
       "      <th>6</th>\n",
       "      <td>Показать на главной странице баннеры с актуальными акциями и распродажами, чтобы увеличить конверсию</td>\n",
       "      <td>40.0</td>\n",
       "    </tr>\n",
       "    <tr>\n",
       "      <th>8</th>\n",
       "      <td>Запустить акцию, дающую скидку на товар в день рождения</td>\n",
       "      <td>16.2</td>\n",
       "    </tr>\n",
       "    <tr>\n",
       "      <th>3</th>\n",
       "      <td>Изменить структура категорий, что увеличит конверсию, т.к. пользователи быстрее найдут нужный товар</td>\n",
       "      <td>9.0</td>\n",
       "    </tr>\n",
       "    <tr>\n",
       "      <th>1</th>\n",
       "      <td>Запустить собственную службу доставки, что сократит срок доставки заказов</td>\n",
       "      <td>4.0</td>\n",
       "    </tr>\n",
       "    <tr>\n",
       "      <th>5</th>\n",
       "      <td>Добавить страницу отзывов клиентов о магазине, что позволит увеличить количество заказов</td>\n",
       "      <td>4.0</td>\n",
       "    </tr>\n",
       "    <tr>\n",
       "      <th>4</th>\n",
       "      <td>Изменить цвет фона главной страницы, чтобы увеличить вовлеченность пользователей</td>\n",
       "      <td>3.0</td>\n",
       "    </tr>\n",
       "  </tbody>\n",
       "</table>\n",
       "</div>"
      ],
      "text/plain": [
       "                                                                                                     Hypothesis  \\\n",
       "7              Добавить форму подписки на все основные страницы, чтобы собрать базу клиентов для email-рассылок   \n",
       "2  Добавить блоки рекомендаций товаров на сайт интернет магазина, чтобы повысить конверсию и средний чек заказа   \n",
       "0            Добавить два новых канала привлечения трафика, что позволит привлекать на 30% больше пользователей   \n",
       "6          Показать на главной странице баннеры с актуальными акциями и распродажами, чтобы увеличить конверсию   \n",
       "8                                                       Запустить акцию, дающую скидку на товар в день рождения   \n",
       "3           Изменить структура категорий, что увеличит конверсию, т.к. пользователи быстрее найдут нужный товар   \n",
       "1                                     Запустить собственную службу доставки, что сократит срок доставки заказов   \n",
       "5                      Добавить страницу отзывов клиентов о магазине, что позволит увеличить количество заказов   \n",
       "4                              Изменить цвет фона главной страницы, чтобы увеличить вовлеченность пользователей   \n",
       "\n",
       "    RICE  \n",
       "7  112.0  \n",
       "2   56.0  \n",
       "0   40.0  \n",
       "6   40.0  \n",
       "8   16.2  \n",
       "3    9.0  \n",
       "1    4.0  \n",
       "5    4.0  \n",
       "4    3.0  "
      ]
     },
     "metadata": {},
     "output_type": "display_data"
    }
   ],
   "source": [
    "# воспользуемся RICE фреймворком для определния приоритета гипотез\n",
    "hyp_data['RICE'] = (hyp_data['Reach'] * hyp_data['Impact'] * hyp_data['Confidence']) / hyp_data['Efforts']\n",
    "display(hyp_data.sort_values(by = 'RICE', ascending = False)[['Hypothesis', 'RICE']])"
   ]
  },
  {
   "cell_type": "markdown",
   "metadata": {},
   "source": [
    "***Согласно RICE лидируют гипотезы:*** <a id=\"rice\"></a>\n",
    "1. Добавить форму подписки на все основные страницы, чтобы собрать базу клиентов для email-рассылок\t\t\n",
    "2. Добавить блоки рекомендаций товаров на сайт интернет магазина, чтобы повысить конверсию и средний чек заказа\t\n",
    "3. Добавить два новых канала привлечения трафика, что позволит привлекать на 30% больше пользователей\t\t"
   ]
  },
  {
   "cell_type": "code",
   "execution_count": 8,
   "metadata": {},
   "outputs": [
    {
     "data": {
      "text/html": [
       "<div>\n",
       "<style scoped>\n",
       "    .dataframe tbody tr th:only-of-type {\n",
       "        vertical-align: middle;\n",
       "    }\n",
       "\n",
       "    .dataframe tbody tr th {\n",
       "        vertical-align: top;\n",
       "    }\n",
       "\n",
       "    .dataframe thead th {\n",
       "        text-align: right;\n",
       "    }\n",
       "</style>\n",
       "<table border=\"1\" class=\"dataframe\">\n",
       "  <thead>\n",
       "    <tr style=\"text-align: right;\">\n",
       "      <th></th>\n",
       "      <th>Hypothesis</th>\n",
       "      <th>Reach</th>\n",
       "      <th>Impact</th>\n",
       "      <th>Confidence</th>\n",
       "      <th>Efforts</th>\n",
       "      <th>ICE</th>\n",
       "      <th>RICE</th>\n",
       "    </tr>\n",
       "  </thead>\n",
       "  <tbody>\n",
       "    <tr>\n",
       "      <th>0</th>\n",
       "      <td>Добавить два новых канала привлечения трафика, что позволит привлекать на 30% больше пользователей</td>\n",
       "      <td>3</td>\n",
       "      <td>10</td>\n",
       "      <td>8</td>\n",
       "      <td>6</td>\n",
       "      <td>13.333333</td>\n",
       "      <td>40.0</td>\n",
       "    </tr>\n",
       "    <tr>\n",
       "      <th>1</th>\n",
       "      <td>Запустить собственную службу доставки, что сократит срок доставки заказов</td>\n",
       "      <td>2</td>\n",
       "      <td>5</td>\n",
       "      <td>4</td>\n",
       "      <td>10</td>\n",
       "      <td>2.000000</td>\n",
       "      <td>4.0</td>\n",
       "    </tr>\n",
       "    <tr>\n",
       "      <th>2</th>\n",
       "      <td>Добавить блоки рекомендаций товаров на сайт интернет магазина, чтобы повысить конверсию и средний чек заказа</td>\n",
       "      <td>8</td>\n",
       "      <td>3</td>\n",
       "      <td>7</td>\n",
       "      <td>3</td>\n",
       "      <td>7.000000</td>\n",
       "      <td>56.0</td>\n",
       "    </tr>\n",
       "    <tr>\n",
       "      <th>3</th>\n",
       "      <td>Изменить структура категорий, что увеличит конверсию, т.к. пользователи быстрее найдут нужный товар</td>\n",
       "      <td>8</td>\n",
       "      <td>3</td>\n",
       "      <td>3</td>\n",
       "      <td>8</td>\n",
       "      <td>1.125000</td>\n",
       "      <td>9.0</td>\n",
       "    </tr>\n",
       "    <tr>\n",
       "      <th>4</th>\n",
       "      <td>Изменить цвет фона главной страницы, чтобы увеличить вовлеченность пользователей</td>\n",
       "      <td>3</td>\n",
       "      <td>1</td>\n",
       "      <td>1</td>\n",
       "      <td>1</td>\n",
       "      <td>1.000000</td>\n",
       "      <td>3.0</td>\n",
       "    </tr>\n",
       "    <tr>\n",
       "      <th>5</th>\n",
       "      <td>Добавить страницу отзывов клиентов о магазине, что позволит увеличить количество заказов</td>\n",
       "      <td>3</td>\n",
       "      <td>2</td>\n",
       "      <td>2</td>\n",
       "      <td>3</td>\n",
       "      <td>1.333333</td>\n",
       "      <td>4.0</td>\n",
       "    </tr>\n",
       "    <tr>\n",
       "      <th>6</th>\n",
       "      <td>Показать на главной странице баннеры с актуальными акциями и распродажами, чтобы увеличить конверсию</td>\n",
       "      <td>5</td>\n",
       "      <td>3</td>\n",
       "      <td>8</td>\n",
       "      <td>3</td>\n",
       "      <td>8.000000</td>\n",
       "      <td>40.0</td>\n",
       "    </tr>\n",
       "    <tr>\n",
       "      <th>7</th>\n",
       "      <td>Добавить форму подписки на все основные страницы, чтобы собрать базу клиентов для email-рассылок</td>\n",
       "      <td>10</td>\n",
       "      <td>7</td>\n",
       "      <td>8</td>\n",
       "      <td>5</td>\n",
       "      <td>11.200000</td>\n",
       "      <td>112.0</td>\n",
       "    </tr>\n",
       "    <tr>\n",
       "      <th>8</th>\n",
       "      <td>Запустить акцию, дающую скидку на товар в день рождения</td>\n",
       "      <td>1</td>\n",
       "      <td>9</td>\n",
       "      <td>9</td>\n",
       "      <td>5</td>\n",
       "      <td>16.200000</td>\n",
       "      <td>16.2</td>\n",
       "    </tr>\n",
       "  </tbody>\n",
       "</table>\n",
       "</div>"
      ],
      "text/plain": [
       "                                                                                                     Hypothesis  \\\n",
       "0            Добавить два новых канала привлечения трафика, что позволит привлекать на 30% больше пользователей   \n",
       "1                                     Запустить собственную службу доставки, что сократит срок доставки заказов   \n",
       "2  Добавить блоки рекомендаций товаров на сайт интернет магазина, чтобы повысить конверсию и средний чек заказа   \n",
       "3           Изменить структура категорий, что увеличит конверсию, т.к. пользователи быстрее найдут нужный товар   \n",
       "4                              Изменить цвет фона главной страницы, чтобы увеличить вовлеченность пользователей   \n",
       "5                      Добавить страницу отзывов клиентов о магазине, что позволит увеличить количество заказов   \n",
       "6          Показать на главной странице баннеры с актуальными акциями и распродажами, чтобы увеличить конверсию   \n",
       "7              Добавить форму подписки на все основные страницы, чтобы собрать базу клиентов для email-рассылок   \n",
       "8                                                       Запустить акцию, дающую скидку на товар в день рождения   \n",
       "\n",
       "   Reach  Impact  Confidence  Efforts        ICE   RICE  \n",
       "0      3      10           8        6  13.333333   40.0  \n",
       "1      2       5           4       10   2.000000    4.0  \n",
       "2      8       3           7        3   7.000000   56.0  \n",
       "3      8       3           3        8   1.125000    9.0  \n",
       "4      3       1           1        1   1.000000    3.0  \n",
       "5      3       2           2        3   1.333333    4.0  \n",
       "6      5       3           8        3   8.000000   40.0  \n",
       "7     10       7           8        5  11.200000  112.0  \n",
       "8      1       9           9        5  16.200000   16.2  "
      ]
     },
     "metadata": {},
     "output_type": "display_data"
    }
   ],
   "source": [
    "display(hyp_data)"
   ]
  },
  {
   "cell_type": "markdown",
   "metadata": {},
   "source": [
    "## Выводы после приоретизации гипотез <a id=\"itog\"></a>\n",
    "1. ICE показал приритет гиппотез в таком порядке: Запустить акцию, дающую скидку на товар в день рождения.\n",
    "Добавить два новых канала привлечения трафика, что позволит привлекать на 30% больше пользователей.\n",
    "Добавить форму подписки на все основные страницы, чтобы собрать базу клиентов для email-рассылок.\n",
    "\n",
    "2. RICE показал другой приоритет: Добавить форму подписки на все основные страницы, чтобы собрать базу клиентов для email-рассылок.\n",
    "Добавить блоки рекомендаций товаров на сайт интернет магазина, чтобы повысить конверсию и средний чек заказа.\n",
    "Добавить два новых канала привлечения трафика, что позволит привлекать на 30% больше пользователей.\n",
    "\n",
    "3. Приоретизация в случае RICE изменилась и вот почему:\n",
    "    - ICE не учитывает параметр REACH, поэтому акция в день рождения лидирует в ICE ведь это заденет лишь 1 человека, здесь и ICE и RICE имеют равный показатель, а в случае с RICE она занимает лишь 5 место.\n",
    "    - 3-е место в ICE занимает добавление формы подписки чтобы собрать базу клиентов, опять же здесь параметр REACH дает 10ти кратное уножение в пользу этой гипотезы в случае с RICE при техже условиях эта гипотеза первая в списке.\n",
    "    - В случае с добавлением двух новых каналов трафика и привлечь 30% пользователей, в случае с ICE это вторая по значимости гипотеза так как ее показатели влияния на пользователя 10 и уверненность 8 при стоимости в 6, в тоже время эта гипотеза занимает третье место в RICE и к ее показателям добавляется REACH и это еще 3 единицы в пользу такой гипотезы.\n",
    "    - В случае с добавлением блока рекомендаций товаров на сайт магазина, чтобы повысить конверсию, в ICE это 4 место а в случае с RICE второе, дело в том что это изменение не сильно повлияет на пользователей, однако уверенность в нем высокая а стоимость дешевая. При количестве REACH в 8 эта гипотеза занимает честное второе место в RICE.\n",
    "\n",
    "***Общий вывод при высоких Impact Confidence и низком Efforts, гипотеза по версии ICE всегда будет лидировать, но если REACH при этом 1 то при таких же условиях другой гипотезы и REACH больше хотябы на 1, гипотеза по версии RICE станет приоритетной***"
   ]
  },
  {
   "cell_type": "markdown",
   "metadata": {},
   "source": [
    "## Анализ А/В теста <a id=\"part2\"></a>\n",
    "\n",
    "### Описание данных\n",
    "Файл *orders*:\n",
    "\n",
    "- transactionId — идентификатор заказа;\n",
    "- visitorId — идентификатор пользователя, совершившего заказ;\n",
    "- date — дата, когда был совершён заказ;\n",
    "- revenue — выручка заказа;\n",
    "- group — группа A/B-теста, в которую попал заказ.\n",
    "\n",
    "Файл *visitors*:\n",
    "\n",
    "- date — дата;\n",
    "- group — группа A/B-теста;\n",
    "- visitors — количество пользователей в указанную дату в указанной группе A/B-теста\n"
   ]
  },
  {
   "cell_type": "code",
   "execution_count": 9,
   "metadata": {},
   "outputs": [],
   "source": [
    "#откроем данные для чтения\n",
    "try: # lacal\n",
    "    orders = pd.read_csv('data/orders.csv')\n",
    "    visits = pd.read_csv('data/visitors.csv')\n",
    "except: # Yandex Practicum\n",
    "    orders = pd.read_csv('/datasets/orders.csv')\n",
    "    visits = pd.read_csv('/datasets/visitors.csv')\n",
    "    "
   ]
  },
  {
   "cell_type": "code",
   "execution_count": 10,
   "metadata": {},
   "outputs": [
    {
     "name": "stdout",
     "output_type": "stream",
     "text": [
      "<class 'pandas.core.frame.DataFrame'>\n",
      "RangeIndex: 1197 entries, 0 to 1196\n",
      "Data columns (total 5 columns):\n",
      " #   Column         Non-Null Count  Dtype \n",
      "---  ------         --------------  ----- \n",
      " 0   transactionId  1197 non-null   int64 \n",
      " 1   visitorId      1197 non-null   int64 \n",
      " 2   date           1197 non-null   object\n",
      " 3   revenue        1197 non-null   int64 \n",
      " 4   group          1197 non-null   object\n",
      "dtypes: int64(3), object(2)\n",
      "memory usage: 46.9+ KB\n"
     ]
    },
    {
     "data": {
      "text/plain": [
       "None"
      ]
     },
     "metadata": {},
     "output_type": "display_data"
    },
    {
     "data": {
      "text/html": [
       "<div>\n",
       "<style scoped>\n",
       "    .dataframe tbody tr th:only-of-type {\n",
       "        vertical-align: middle;\n",
       "    }\n",
       "\n",
       "    .dataframe tbody tr th {\n",
       "        vertical-align: top;\n",
       "    }\n",
       "\n",
       "    .dataframe thead th {\n",
       "        text-align: right;\n",
       "    }\n",
       "</style>\n",
       "<table border=\"1\" class=\"dataframe\">\n",
       "  <thead>\n",
       "    <tr style=\"text-align: right;\">\n",
       "      <th></th>\n",
       "      <th>transactionId</th>\n",
       "      <th>visitorId</th>\n",
       "      <th>revenue</th>\n",
       "    </tr>\n",
       "  </thead>\n",
       "  <tbody>\n",
       "    <tr>\n",
       "      <th>count</th>\n",
       "      <td>1.197000e+03</td>\n",
       "      <td>1.197000e+03</td>\n",
       "      <td>1.197000e+03</td>\n",
       "    </tr>\n",
       "    <tr>\n",
       "      <th>mean</th>\n",
       "      <td>2.155621e+09</td>\n",
       "      <td>2.165960e+09</td>\n",
       "      <td>8.348006e+03</td>\n",
       "    </tr>\n",
       "    <tr>\n",
       "      <th>std</th>\n",
       "      <td>1.229085e+09</td>\n",
       "      <td>1.236014e+09</td>\n",
       "      <td>3.919113e+04</td>\n",
       "    </tr>\n",
       "    <tr>\n",
       "      <th>min</th>\n",
       "      <td>1.062393e+06</td>\n",
       "      <td>5.114589e+06</td>\n",
       "      <td>5.000000e+01</td>\n",
       "    </tr>\n",
       "    <tr>\n",
       "      <th>25%</th>\n",
       "      <td>1.166776e+09</td>\n",
       "      <td>1.111826e+09</td>\n",
       "      <td>1.220000e+03</td>\n",
       "    </tr>\n",
       "    <tr>\n",
       "      <th>50%</th>\n",
       "      <td>2.145194e+09</td>\n",
       "      <td>2.217985e+09</td>\n",
       "      <td>2.978000e+03</td>\n",
       "    </tr>\n",
       "    <tr>\n",
       "      <th>75%</th>\n",
       "      <td>3.237740e+09</td>\n",
       "      <td>3.177606e+09</td>\n",
       "      <td>8.290000e+03</td>\n",
       "    </tr>\n",
       "    <tr>\n",
       "      <th>max</th>\n",
       "      <td>4.293856e+09</td>\n",
       "      <td>4.283872e+09</td>\n",
       "      <td>1.294500e+06</td>\n",
       "    </tr>\n",
       "  </tbody>\n",
       "</table>\n",
       "</div>"
      ],
      "text/plain": [
       "       transactionId     visitorId       revenue\n",
       "count   1.197000e+03  1.197000e+03  1.197000e+03\n",
       "mean    2.155621e+09  2.165960e+09  8.348006e+03\n",
       "std     1.229085e+09  1.236014e+09  3.919113e+04\n",
       "min     1.062393e+06  5.114589e+06  5.000000e+01\n",
       "25%     1.166776e+09  1.111826e+09  1.220000e+03\n",
       "50%     2.145194e+09  2.217985e+09  2.978000e+03\n",
       "75%     3.237740e+09  3.177606e+09  8.290000e+03\n",
       "max     4.293856e+09  4.283872e+09  1.294500e+06"
      ]
     },
     "metadata": {},
     "output_type": "display_data"
    },
    {
     "name": "stdout",
     "output_type": "stream",
     "text": [
      "Количество строк = 1197, количество столбцов = 5\n",
      "\n",
      "Всего дубликатов в таблице =  0\n"
     ]
    },
    {
     "data": {
      "text/html": [
       "<style  type=\"text/css\" >\n",
       "#T_88860_row0_col0,#T_88860_row1_col0,#T_88860_row1_col1,#T_88860_row1_col2,#T_88860_row1_col3,#T_88860_row1_col4{\n",
       "            color: white;\n",
       "        }#T_88860_row0_col1,#T_88860_row0_col2,#T_88860_row0_col3,#T_88860_row0_col4{\n",
       "            color: darkred;\n",
       "        }</style><table id=\"T_88860_\" ><thead>    <tr>        <th class=\"blank level0\" ></th>        <th class=\"col_heading level0 col0\" >transactionId</th>        <th class=\"col_heading level0 col1\" >visitorId</th>        <th class=\"col_heading level0 col2\" >date</th>        <th class=\"col_heading level0 col3\" >revenue</th>        <th class=\"col_heading level0 col4\" >group</th>    </tr></thead><tbody>\n",
       "                <tr>\n",
       "                        <th id=\"T_88860_level0_row0\" class=\"row_heading level0 row0\" >Дубликатов в колонке</th>\n",
       "                        <td id=\"T_88860_row0_col0\" class=\"data row0 col0\" >0</td>\n",
       "                        <td id=\"T_88860_row0_col1\" class=\"data row0 col1\" >166</td>\n",
       "                        <td id=\"T_88860_row0_col2\" class=\"data row0 col2\" >1166</td>\n",
       "                        <td id=\"T_88860_row0_col3\" class=\"data row0 col3\" >484</td>\n",
       "                        <td id=\"T_88860_row0_col4\" class=\"data row0 col4\" >1195</td>\n",
       "            </tr>\n",
       "            <tr>\n",
       "                        <th id=\"T_88860_level0_row1\" class=\"row_heading level0 row1\" >Пропусков в колонке</th>\n",
       "                        <td id=\"T_88860_row1_col0\" class=\"data row1 col0\" >0</td>\n",
       "                        <td id=\"T_88860_row1_col1\" class=\"data row1 col1\" >0</td>\n",
       "                        <td id=\"T_88860_row1_col2\" class=\"data row1 col2\" >0</td>\n",
       "                        <td id=\"T_88860_row1_col3\" class=\"data row1 col3\" >0</td>\n",
       "                        <td id=\"T_88860_row1_col4\" class=\"data row1 col4\" >0</td>\n",
       "            </tr>\n",
       "    </tbody></table>"
      ],
      "text/plain": [
       "<pandas.io.formats.style.Styler at 0x7f81f3be0310>"
      ]
     },
     "metadata": {},
     "output_type": "display_data"
    },
    {
     "name": "stdout",
     "output_type": "stream",
     "text": [
      "<class 'pandas.core.frame.DataFrame'>\n",
      "RangeIndex: 62 entries, 0 to 61\n",
      "Data columns (total 3 columns):\n",
      " #   Column    Non-Null Count  Dtype \n",
      "---  ------    --------------  ----- \n",
      " 0   date      62 non-null     object\n",
      " 1   group     62 non-null     object\n",
      " 2   visitors  62 non-null     int64 \n",
      "dtypes: int64(1), object(2)\n",
      "memory usage: 1.6+ KB\n"
     ]
    },
    {
     "data": {
      "text/plain": [
       "None"
      ]
     },
     "metadata": {},
     "output_type": "display_data"
    },
    {
     "data": {
      "text/html": [
       "<div>\n",
       "<style scoped>\n",
       "    .dataframe tbody tr th:only-of-type {\n",
       "        vertical-align: middle;\n",
       "    }\n",
       "\n",
       "    .dataframe tbody tr th {\n",
       "        vertical-align: top;\n",
       "    }\n",
       "\n",
       "    .dataframe thead th {\n",
       "        text-align: right;\n",
       "    }\n",
       "</style>\n",
       "<table border=\"1\" class=\"dataframe\">\n",
       "  <thead>\n",
       "    <tr style=\"text-align: right;\">\n",
       "      <th></th>\n",
       "      <th>visitors</th>\n",
       "    </tr>\n",
       "  </thead>\n",
       "  <tbody>\n",
       "    <tr>\n",
       "      <th>count</th>\n",
       "      <td>62.000000</td>\n",
       "    </tr>\n",
       "    <tr>\n",
       "      <th>mean</th>\n",
       "      <td>607.290323</td>\n",
       "    </tr>\n",
       "    <tr>\n",
       "      <th>std</th>\n",
       "      <td>114.400560</td>\n",
       "    </tr>\n",
       "    <tr>\n",
       "      <th>min</th>\n",
       "      <td>361.000000</td>\n",
       "    </tr>\n",
       "    <tr>\n",
       "      <th>25%</th>\n",
       "      <td>534.000000</td>\n",
       "    </tr>\n",
       "    <tr>\n",
       "      <th>50%</th>\n",
       "      <td>624.500000</td>\n",
       "    </tr>\n",
       "    <tr>\n",
       "      <th>75%</th>\n",
       "      <td>710.500000</td>\n",
       "    </tr>\n",
       "    <tr>\n",
       "      <th>max</th>\n",
       "      <td>770.000000</td>\n",
       "    </tr>\n",
       "  </tbody>\n",
       "</table>\n",
       "</div>"
      ],
      "text/plain": [
       "         visitors\n",
       "count   62.000000\n",
       "mean   607.290323\n",
       "std    114.400560\n",
       "min    361.000000\n",
       "25%    534.000000\n",
       "50%    624.500000\n",
       "75%    710.500000\n",
       "max    770.000000"
      ]
     },
     "metadata": {},
     "output_type": "display_data"
    },
    {
     "name": "stdout",
     "output_type": "stream",
     "text": [
      "Количество строк = 62, количество столбцов = 3\n",
      "\n",
      "Всего дубликатов в таблице =  0\n"
     ]
    },
    {
     "data": {
      "text/html": [
       "<style  type=\"text/css\" >\n",
       "#T_7a11c_row0_col0,#T_7a11c_row0_col1,#T_7a11c_row0_col2{\n",
       "            color: darkred;\n",
       "        }#T_7a11c_row1_col0,#T_7a11c_row1_col1,#T_7a11c_row1_col2{\n",
       "            color: white;\n",
       "        }</style><table id=\"T_7a11c_\" ><thead>    <tr>        <th class=\"blank level0\" ></th>        <th class=\"col_heading level0 col0\" >date</th>        <th class=\"col_heading level0 col1\" >group</th>        <th class=\"col_heading level0 col2\" >visitors</th>    </tr></thead><tbody>\n",
       "                <tr>\n",
       "                        <th id=\"T_7a11c_level0_row0\" class=\"row_heading level0 row0\" >Дубликатов в колонке</th>\n",
       "                        <td id=\"T_7a11c_row0_col0\" class=\"data row0 col0\" >31</td>\n",
       "                        <td id=\"T_7a11c_row0_col1\" class=\"data row0 col1\" >60</td>\n",
       "                        <td id=\"T_7a11c_row0_col2\" class=\"data row0 col2\" >4</td>\n",
       "            </tr>\n",
       "            <tr>\n",
       "                        <th id=\"T_7a11c_level0_row1\" class=\"row_heading level0 row1\" >Пропусков в колонке</th>\n",
       "                        <td id=\"T_7a11c_row1_col0\" class=\"data row1 col0\" >0</td>\n",
       "                        <td id=\"T_7a11c_row1_col1\" class=\"data row1 col1\" >0</td>\n",
       "                        <td id=\"T_7a11c_row1_col2\" class=\"data row1 col2\" >0</td>\n",
       "            </tr>\n",
       "    </tbody></table>"
      ],
      "text/plain": [
       "<pandas.io.formats.style.Styler at 0x7f81f6f49730>"
      ]
     },
     "metadata": {},
     "output_type": "display_data"
    }
   ],
   "source": [
    "# просмотрим данные\n",
    "check_data(orders)\n",
    "check_data(visits)\n"
   ]
  },
  {
   "cell_type": "markdown",
   "metadata": {},
   "source": [
    "***В данных нет пропусков, но даты представлены в строчном формате его надо будет преобразовать для дальнейшего анализа, в данных есть дубликаты, в колонках что абсолютно нормально, повторяющихся строк нет.***"
   ]
  },
  {
   "cell_type": "markdown",
   "metadata": {},
   "source": [
    "<a id=\"p1\"></a>\n",
    "### 1. График кумулятивной выручки по группам. \n",
    "### 2. График кумулятивного среднего чека по группам.\n",
    "### 3. График относительного изменения кумулятивного среднего чека группы B к группе A."
   ]
  },
  {
   "cell_type": "code",
   "execution_count": 11,
   "metadata": {},
   "outputs": [],
   "source": [
    "# построим график коммултивной выручки по группам\n",
    "# но сначала приведем тип даты к нужному, затем сгруппируем данные,отсортируем данные, затем выберем коммулитивные данные\n",
    "orders['date'] = orders['date'].map(lambda x: dt.datetime.strptime(x, '%Y-%m-%d'))\n",
    "visits['date'] = visits['date'].map(lambda x : dt.datetime.strptime(x, '%Y-%m-%d'))"
   ]
  },
  {
   "cell_type": "code",
   "execution_count": 12,
   "metadata": {},
   "outputs": [
    {
     "data": {
      "text/html": [
       "<div>\n",
       "<style scoped>\n",
       "    .dataframe tbody tr th:only-of-type {\n",
       "        vertical-align: middle;\n",
       "    }\n",
       "\n",
       "    .dataframe tbody tr th {\n",
       "        vertical-align: top;\n",
       "    }\n",
       "\n",
       "    .dataframe thead th {\n",
       "        text-align: right;\n",
       "    }\n",
       "</style>\n",
       "<table border=\"1\" class=\"dataframe\">\n",
       "  <thead>\n",
       "    <tr style=\"text-align: right;\">\n",
       "      <th></th>\n",
       "      <th>date</th>\n",
       "      <th>group</th>\n",
       "      <th>visitors</th>\n",
       "    </tr>\n",
       "  </thead>\n",
       "  <tbody>\n",
       "    <tr>\n",
       "      <th>55</th>\n",
       "      <td>2019-08-01</td>\n",
       "      <td>A</td>\n",
       "      <td>719</td>\n",
       "    </tr>\n",
       "    <tr>\n",
       "      <th>66</th>\n",
       "      <td>2019-08-01</td>\n",
       "      <td>B</td>\n",
       "      <td>713</td>\n",
       "    </tr>\n",
       "    <tr>\n",
       "      <th>175</th>\n",
       "      <td>2019-08-02</td>\n",
       "      <td>A</td>\n",
       "      <td>1338</td>\n",
       "    </tr>\n",
       "    <tr>\n",
       "      <th>173</th>\n",
       "      <td>2019-08-02</td>\n",
       "      <td>B</td>\n",
       "      <td>1294</td>\n",
       "    </tr>\n",
       "    <tr>\n",
       "      <th>291</th>\n",
       "      <td>2019-08-03</td>\n",
       "      <td>A</td>\n",
       "      <td>1845</td>\n",
       "    </tr>\n",
       "    <tr>\n",
       "      <th>...</th>\n",
       "      <td>...</td>\n",
       "      <td>...</td>\n",
       "      <td>...</td>\n",
       "    </tr>\n",
       "    <tr>\n",
       "      <th>496</th>\n",
       "      <td>2019-08-29</td>\n",
       "      <td>B</td>\n",
       "      <td>17708</td>\n",
       "    </tr>\n",
       "    <tr>\n",
       "      <th>730</th>\n",
       "      <td>2019-08-30</td>\n",
       "      <td>A</td>\n",
       "      <td>18037</td>\n",
       "    </tr>\n",
       "    <tr>\n",
       "      <th>690</th>\n",
       "      <td>2019-08-30</td>\n",
       "      <td>B</td>\n",
       "      <td>18198</td>\n",
       "    </tr>\n",
       "    <tr>\n",
       "      <th>958</th>\n",
       "      <td>2019-08-31</td>\n",
       "      <td>A</td>\n",
       "      <td>18736</td>\n",
       "    </tr>\n",
       "    <tr>\n",
       "      <th>930</th>\n",
       "      <td>2019-08-31</td>\n",
       "      <td>B</td>\n",
       "      <td>18916</td>\n",
       "    </tr>\n",
       "  </tbody>\n",
       "</table>\n",
       "<p>62 rows × 3 columns</p>\n",
       "</div>"
      ],
      "text/plain": [
       "          date group  visitors\n",
       "55  2019-08-01     A       719\n",
       "66  2019-08-01     B       713\n",
       "175 2019-08-02     A      1338\n",
       "173 2019-08-02     B      1294\n",
       "291 2019-08-03     A      1845\n",
       "..         ...   ...       ...\n",
       "496 2019-08-29     B     17708\n",
       "730 2019-08-30     A     18037\n",
       "690 2019-08-30     B     18198\n",
       "958 2019-08-31     A     18736\n",
       "930 2019-08-31     B     18916\n",
       "\n",
       "[62 rows x 3 columns]"
      ]
     },
     "metadata": {},
     "output_type": "display_data"
    },
    {
     "data": {
      "text/html": [
       "<div>\n",
       "<style scoped>\n",
       "    .dataframe tbody tr th:only-of-type {\n",
       "        vertical-align: middle;\n",
       "    }\n",
       "\n",
       "    .dataframe tbody tr th {\n",
       "        vertical-align: top;\n",
       "    }\n",
       "\n",
       "    .dataframe thead th {\n",
       "        text-align: right;\n",
       "    }\n",
       "</style>\n",
       "<table border=\"1\" class=\"dataframe\">\n",
       "  <thead>\n",
       "    <tr style=\"text-align: right;\">\n",
       "      <th></th>\n",
       "      <th>date</th>\n",
       "      <th>group</th>\n",
       "      <th>transactionId</th>\n",
       "      <th>visitorId</th>\n",
       "      <th>revenue</th>\n",
       "    </tr>\n",
       "  </thead>\n",
       "  <tbody>\n",
       "    <tr>\n",
       "      <th>55</th>\n",
       "      <td>2019-08-01</td>\n",
       "      <td>A</td>\n",
       "      <td>24</td>\n",
       "      <td>20</td>\n",
       "      <td>148579</td>\n",
       "    </tr>\n",
       "    <tr>\n",
       "      <th>66</th>\n",
       "      <td>2019-08-01</td>\n",
       "      <td>B</td>\n",
       "      <td>21</td>\n",
       "      <td>20</td>\n",
       "      <td>101217</td>\n",
       "    </tr>\n",
       "    <tr>\n",
       "      <th>175</th>\n",
       "      <td>2019-08-02</td>\n",
       "      <td>A</td>\n",
       "      <td>44</td>\n",
       "      <td>38</td>\n",
       "      <td>242401</td>\n",
       "    </tr>\n",
       "    <tr>\n",
       "      <th>173</th>\n",
       "      <td>2019-08-02</td>\n",
       "      <td>B</td>\n",
       "      <td>45</td>\n",
       "      <td>43</td>\n",
       "      <td>266748</td>\n",
       "    </tr>\n",
       "    <tr>\n",
       "      <th>291</th>\n",
       "      <td>2019-08-03</td>\n",
       "      <td>A</td>\n",
       "      <td>68</td>\n",
       "      <td>62</td>\n",
       "      <td>354874</td>\n",
       "    </tr>\n",
       "    <tr>\n",
       "      <th>...</th>\n",
       "      <td>...</td>\n",
       "      <td>...</td>\n",
       "      <td>...</td>\n",
       "      <td>...</td>\n",
       "      <td>...</td>\n",
       "    </tr>\n",
       "    <tr>\n",
       "      <th>496</th>\n",
       "      <td>2019-08-29</td>\n",
       "      <td>B</td>\n",
       "      <td>596</td>\n",
       "      <td>544</td>\n",
       "      <td>5559398</td>\n",
       "    </tr>\n",
       "    <tr>\n",
       "      <th>730</th>\n",
       "      <td>2019-08-30</td>\n",
       "      <td>A</td>\n",
       "      <td>545</td>\n",
       "      <td>493</td>\n",
       "      <td>4022970</td>\n",
       "    </tr>\n",
       "    <tr>\n",
       "      <th>690</th>\n",
       "      <td>2019-08-30</td>\n",
       "      <td>B</td>\n",
       "      <td>620</td>\n",
       "      <td>567</td>\n",
       "      <td>5774631</td>\n",
       "    </tr>\n",
       "    <tr>\n",
       "      <th>958</th>\n",
       "      <td>2019-08-31</td>\n",
       "      <td>A</td>\n",
       "      <td>557</td>\n",
       "      <td>503</td>\n",
       "      <td>4084803</td>\n",
       "    </tr>\n",
       "    <tr>\n",
       "      <th>930</th>\n",
       "      <td>2019-08-31</td>\n",
       "      <td>B</td>\n",
       "      <td>640</td>\n",
       "      <td>586</td>\n",
       "      <td>5907760</td>\n",
       "    </tr>\n",
       "  </tbody>\n",
       "</table>\n",
       "<p>62 rows × 5 columns</p>\n",
       "</div>"
      ],
      "text/plain": [
       "          date group  transactionId  visitorId  revenue\n",
       "55  2019-08-01     A             24         20   148579\n",
       "66  2019-08-01     B             21         20   101217\n",
       "175 2019-08-02     A             44         38   242401\n",
       "173 2019-08-02     B             45         43   266748\n",
       "291 2019-08-03     A             68         62   354874\n",
       "..         ...   ...            ...        ...      ...\n",
       "496 2019-08-29     B            596        544  5559398\n",
       "730 2019-08-30     A            545        493  4022970\n",
       "690 2019-08-30     B            620        567  5774631\n",
       "958 2019-08-31     A            557        503  4084803\n",
       "930 2019-08-31     B            640        586  5907760\n",
       "\n",
       "[62 rows x 5 columns]"
      ]
     },
     "metadata": {},
     "output_type": "display_data"
    }
   ],
   "source": [
    "# создадим массив пар значений дат и групп теста\n",
    "dates_group = orders[['date', 'group']].drop_duplicates()\n",
    "# сагрегируем визиты и заказы\n",
    "orders_aggregate = dates_group.apply(lambda x: orders[np.logical_and(orders['date'] <= x['date'],\n",
    "                                    orders['group'] == x['group'])].agg(\n",
    "    {\n",
    "    'date' : 'max',\n",
    "    'group' : 'max',\n",
    "    'transactionId' : pd.Series.nunique,\n",
    "    'visitorId' : pd.Series.nunique,\n",
    "    'revenue' : 'sum'}\n",
    "                        ), axis=1).sort_values(by=['date','group'])\n",
    "\n",
    "visits_aggregate = dates_group.apply(lambda x: visits[np.logical_and(visits['date'] <= x['date'],\n",
    "                                    visits['group'] == x['group'])].agg(\n",
    "    {'date' : 'max',\n",
    "     'group' : 'max',\n",
    "     'visitors' : 'sum'}), axis=1).sort_values(by=['date','group'])\n",
    "\n",
    "display(visits_aggregate,orders_aggregate)\n"
   ]
  },
  {
   "cell_type": "code",
   "execution_count": 13,
   "metadata": {},
   "outputs": [
    {
     "data": {
      "text/html": [
       "<div>\n",
       "<style scoped>\n",
       "    .dataframe tbody tr th:only-of-type {\n",
       "        vertical-align: middle;\n",
       "    }\n",
       "\n",
       "    .dataframe tbody tr th {\n",
       "        vertical-align: top;\n",
       "    }\n",
       "\n",
       "    .dataframe thead th {\n",
       "        text-align: right;\n",
       "    }\n",
       "</style>\n",
       "<table border=\"1\" class=\"dataframe\">\n",
       "  <thead>\n",
       "    <tr style=\"text-align: right;\">\n",
       "      <th></th>\n",
       "      <th>date</th>\n",
       "      <th>group</th>\n",
       "      <th>orders</th>\n",
       "      <th>buyers</th>\n",
       "      <th>revenue</th>\n",
       "      <th>visitors</th>\n",
       "    </tr>\n",
       "  </thead>\n",
       "  <tbody>\n",
       "    <tr>\n",
       "      <th>0</th>\n",
       "      <td>2019-08-01</td>\n",
       "      <td>A</td>\n",
       "      <td>24</td>\n",
       "      <td>20</td>\n",
       "      <td>148579</td>\n",
       "      <td>719</td>\n",
       "    </tr>\n",
       "    <tr>\n",
       "      <th>1</th>\n",
       "      <td>2019-08-01</td>\n",
       "      <td>B</td>\n",
       "      <td>21</td>\n",
       "      <td>20</td>\n",
       "      <td>101217</td>\n",
       "      <td>713</td>\n",
       "    </tr>\n",
       "    <tr>\n",
       "      <th>2</th>\n",
       "      <td>2019-08-02</td>\n",
       "      <td>A</td>\n",
       "      <td>44</td>\n",
       "      <td>38</td>\n",
       "      <td>242401</td>\n",
       "      <td>1338</td>\n",
       "    </tr>\n",
       "    <tr>\n",
       "      <th>3</th>\n",
       "      <td>2019-08-02</td>\n",
       "      <td>B</td>\n",
       "      <td>45</td>\n",
       "      <td>43</td>\n",
       "      <td>266748</td>\n",
       "      <td>1294</td>\n",
       "    </tr>\n",
       "    <tr>\n",
       "      <th>4</th>\n",
       "      <td>2019-08-03</td>\n",
       "      <td>A</td>\n",
       "      <td>68</td>\n",
       "      <td>62</td>\n",
       "      <td>354874</td>\n",
       "      <td>1845</td>\n",
       "    </tr>\n",
       "    <tr>\n",
       "      <th>...</th>\n",
       "      <td>...</td>\n",
       "      <td>...</td>\n",
       "      <td>...</td>\n",
       "      <td>...</td>\n",
       "      <td>...</td>\n",
       "      <td>...</td>\n",
       "    </tr>\n",
       "    <tr>\n",
       "      <th>57</th>\n",
       "      <td>2019-08-29</td>\n",
       "      <td>B</td>\n",
       "      <td>596</td>\n",
       "      <td>544</td>\n",
       "      <td>5559398</td>\n",
       "      <td>17708</td>\n",
       "    </tr>\n",
       "    <tr>\n",
       "      <th>58</th>\n",
       "      <td>2019-08-30</td>\n",
       "      <td>A</td>\n",
       "      <td>545</td>\n",
       "      <td>493</td>\n",
       "      <td>4022970</td>\n",
       "      <td>18037</td>\n",
       "    </tr>\n",
       "    <tr>\n",
       "      <th>59</th>\n",
       "      <td>2019-08-30</td>\n",
       "      <td>B</td>\n",
       "      <td>620</td>\n",
       "      <td>567</td>\n",
       "      <td>5774631</td>\n",
       "      <td>18198</td>\n",
       "    </tr>\n",
       "    <tr>\n",
       "      <th>60</th>\n",
       "      <td>2019-08-31</td>\n",
       "      <td>A</td>\n",
       "      <td>557</td>\n",
       "      <td>503</td>\n",
       "      <td>4084803</td>\n",
       "      <td>18736</td>\n",
       "    </tr>\n",
       "    <tr>\n",
       "      <th>61</th>\n",
       "      <td>2019-08-31</td>\n",
       "      <td>B</td>\n",
       "      <td>640</td>\n",
       "      <td>586</td>\n",
       "      <td>5907760</td>\n",
       "      <td>18916</td>\n",
       "    </tr>\n",
       "  </tbody>\n",
       "</table>\n",
       "<p>62 rows × 6 columns</p>\n",
       "</div>"
      ],
      "text/plain": [
       "         date group  orders  buyers  revenue  visitors\n",
       "0  2019-08-01     A      24      20   148579       719\n",
       "1  2019-08-01     B      21      20   101217       713\n",
       "2  2019-08-02     A      44      38   242401      1338\n",
       "3  2019-08-02     B      45      43   266748      1294\n",
       "4  2019-08-03     A      68      62   354874      1845\n",
       "..        ...   ...     ...     ...      ...       ...\n",
       "57 2019-08-29     B     596     544  5559398     17708\n",
       "58 2019-08-30     A     545     493  4022970     18037\n",
       "59 2019-08-30     B     620     567  5774631     18198\n",
       "60 2019-08-31     A     557     503  4084803     18736\n",
       "61 2019-08-31     B     640     586  5907760     18916\n",
       "\n",
       "[62 rows x 6 columns]"
      ]
     },
     "metadata": {},
     "output_type": "display_data"
    }
   ],
   "source": [
    "#Сделаем объединение коммулитивных данных\n",
    "cumulative_data = orders_aggregate.merge(visits_aggregate, on = ['date', 'group'])\n",
    "#переименуем колонки\n",
    "cumulative_data.columns = ['date', 'group', 'orders', 'buyers', 'revenue', 'visitors']\n",
    "\n",
    "display(cumulative_data)"
   ]
  },
  {
   "cell_type": "code",
   "execution_count": 14,
   "metadata": {},
   "outputs": [
    {
     "data": {
      "image/png": "[encoded data removed]",
      "text/plain": [
       "<Figure size 432x288 with 1 Axes>"
      ]
     },
     "metadata": {
      "needs_background": "light"
     },
     "output_type": "display_data"
    },
    {
     "data": {
      "image/png": "[encoded data removed]",
      "text/plain": [
       "<Figure size 432x288 with 1 Axes>"
      ]
     },
     "metadata": {
      "needs_background": "light"
     },
     "output_type": "display_data"
    },
    {
     "data": {
      "image/png": "[encoded data removed]",
      "text/plain": [
       "<Figure size 432x288 with 1 Axes>"
      ]
     },
     "metadata": {
      "needs_background": "light"
     },
     "output_type": "display_data"
    }
   ],
   "source": [
    "# построим график коммулятивной выручки по группам\n",
    "\n",
    "cumulative_revenueA = cumulative_data[cumulative_data['group']=='A'][['date','revenue', 'orders']]\n",
    "\n",
    "cumulative_revenueB = cumulative_data[cumulative_data['group']=='B'][['date','revenue', 'orders']]\n",
    "\n",
    "# Строим графики выручки групп\n",
    "plt.plot(cumulative_revenueA['date'], cumulative_revenueA['revenue'], label='A')\n",
    "plt.plot(cumulative_revenueB['date'], cumulative_revenueB['revenue'], label='B')\n",
    "plt.legend()\n",
    "plt.title('Графики выручки по дням А/В')\n",
    "plt.show()\n",
    "\n",
    "#строим графики среднего чека\n",
    "plt.plot(cumulative_revenueA['date'], cumulative_revenueA['revenue']/cumulative_revenueA['orders'], label='A')\n",
    "plt.plot(cumulative_revenueB['date'], cumulative_revenueB['revenue']/cumulative_revenueB['orders'], label='B')\n",
    "plt.legend()\n",
    "plt.title('Графики среднего чека по дням А/В')\n",
    "\n",
    "plt.show()\n",
    "\n",
    "\n",
    "# собираем данные в одном датафрейме\n",
    "merged_cumulative_revenue = cumulative_revenueA.merge(cumulative_revenueB, on = 'date', how='left', suffixes=['A', 'B'])\n",
    "\n",
    "# cтроим отношение средних чеков\n",
    "plt.plot(merged_cumulative_revenue['date'], (merged_cumulative_revenue['revenueB']/merged_cumulative_revenue['ordersB'])/(merged_cumulative_revenue['revenueA']/merged_cumulative_revenue['ordersA'])-1)\n",
    "plt.axhline(y=0, color='red', linestyle='--')\n",
    "plt.title('График отношения средних чеков А/В')\n",
    "plt.show()"
   ]
  },
  {
   "cell_type": "markdown",
   "metadata": {},
   "source": [
    "1. ***Выручка росла на протяжение всего теста в обоих группах, однако в какой то момент в В группе наблюдается скачек. Это может быть связано с увеличением количества заказов или же с продажей дорогостоящих товаров. Надо посмоттреть на выбросы в данных***\n",
    "2. ***Средний чек группы А сначала стремительно падал, затем вырос а затем вновь упал и держался на определнном уровне. В то время как чек В сначала показал рост, затем небольшой спад, а потом подскочил в небо и начал снижаться. Подозреваю что были какие то дорогостоящие товары.***\n",
    "3. ***На графике отношения средних чеков видны несколько скачкев в нескольких точках, предполагаю или резкий всплеск заказов или интерес к более дорогим товарам***"
   ]
  },
  {
   "cell_type": "markdown",
   "metadata": {},
   "source": [
    "<a id=\"p2\"></a>\n",
    "### 4.  График кумулятивной конверсии по группам.\n",
    "### 5. График относительного изменения кумулятивной конверсии группы B к группе A.\n"
   ]
  },
  {
   "cell_type": "code",
   "execution_count": 15,
   "metadata": {},
   "outputs": [
    {
     "name": "stdout",
     "output_type": "stream",
     "text": [
      "---------- Масштабы для графиков ----------\n",
      "Диапозон дат 2019-08-01 00:00:00 2019-08-31 00:00:00\n",
      "Диапозон конверсий 0.029 0.036\n",
      "---------- ---------- ----------\n"
     ]
    },
    {
     "data": {
      "image/png": "[encoded data removed]",
      "text/plain": [
       "<Figure size 432x288 with 1 Axes>"
      ]
     },
     "metadata": {
      "needs_background": "light"
     },
     "output_type": "display_data"
    }
   ],
   "source": [
    "# считаем кумулятивную конверсию\n",
    "cumulative_data['conversion'] = cumulative_data['orders']/cumulative_data['visitors']\n",
    "\n",
    "# отделяем данные по группе A и по группе В\n",
    "cumulative_dataA = cumulative_data[cumulative_data['group']=='A']\n",
    "cumulative_dataB = cumulative_data[cumulative_data['group']=='B']\n",
    "\n",
    "# строим графики\n",
    "plt.plot(cumulative_dataA['date'], cumulative_dataA['conversion'], label='A')\n",
    "plt.plot(cumulative_dataB['date'], cumulative_dataB['conversion'], label='B')\n",
    "plt.legend()\n",
    "\n",
    "print('-' * 10,'Масштабы для графиков','-' * 10)\n",
    "print('Диапозон дат',cumulative_dataA['date'].min(),cumulative_dataA['date'].max())\n",
    "print('Диапозон конверсий',round(cumulative_dataB['conversion'].min(), 3),\n",
    "      round(cumulative_dataB['conversion'].max(), 3))\n",
    "print('-' * 10,'-' * 10,'-' * 10)\n",
    "\n",
    "# задаем масштаб осей\n",
    "plt.axis([cumulative_dataA['date'].min(),cumulative_dataA['date'].max(), 0.015, 0.05])\n",
    "plt.title('График кумулятивной конверсии')\n",
    "plt.show()"
   ]
  },
  {
   "cell_type": "markdown",
   "metadata": {},
   "source": [
    "***На начальных этапах графики имели похожее поведение, затем пересеклись и разделились почти зеркально. Конверсия группы В очевидно вырвалась вперед, а значит имеет место быть увелечение заказов. Конверсии стали более стаабильны к середине эксперимента***"
   ]
  },
  {
   "cell_type": "code",
   "execution_count": 16,
   "metadata": {},
   "outputs": [
    {
     "data": {
      "image/png": "[encoded data removed]",
      "text/plain": [
       "<Figure size 432x288 with 1 Axes>"
      ]
     },
     "metadata": {
      "needs_background": "light"
     },
     "output_type": "display_data"
    }
   ],
   "source": [
    "# Построим график относительного различия между конверсиями\n",
    "### mcc - merged_cummulative_conversions\n",
    "mcc = cumulative_dataA[['date','conversion']].merge(cumulative_dataB[['date','conversion']], on = 'date', how='left', suffixes=['A', 'B'])\n",
    "\n",
    "plt.plot(mcc['date'], mcc['conversionB']/mcc['conversionA']-1, label=\"Относительный прирост конверсии группы B относительно группы A\")\n",
    "plt.legend()\n",
    "\n",
    "plt.axhline(y=0.2, color='green', linestyle='-')\n",
    "plt.axhline(y=0, color='red', linestyle='-')\n",
    "\n",
    "\n",
    "plt.axis([mcc['date'].min(), mcc['date'].max(), -0.3, 0.3])\n",
    "plt.show()"
   ]
  },
  {
   "cell_type": "markdown",
   "metadata": {},
   "source": [
    "***Согласно графика относительного прироста конверсий, Мы наблюдаем начальное повышение конверсии в пользу В, затем возврат почти на исходную, а вот потом отношение прироста В было увеличено почти в три раза, это свидетельствует о том, что конверсия группы В стала значительно выше.***"
   ]
  },
  {
   "cell_type": "markdown",
   "metadata": {},
   "source": [
    "<a id=\"p3\"></a>\n",
    "### 6. Точечный график количества заказов по пользователям.\n",
    "### 7. 95-й и 99-й перцентили количества заказов на пользователя.  Граница для определения аномальных пользователей.\n",
    "### 8. Точечный график стоимостей заказов. \n",
    "### 9. 95-й и 99-й перцентили стоимости заказов. Граница для определения аномальных заказов."
   ]
  },
  {
   "cell_type": "code",
   "execution_count": 17,
   "metadata": {},
   "outputs": [
    {
     "data": {
      "text/html": [
       "<div>\n",
       "<style scoped>\n",
       "    .dataframe tbody tr th:only-of-type {\n",
       "        vertical-align: middle;\n",
       "    }\n",
       "\n",
       "    .dataframe tbody tr th {\n",
       "        vertical-align: top;\n",
       "    }\n",
       "\n",
       "    .dataframe thead th {\n",
       "        text-align: right;\n",
       "    }\n",
       "</style>\n",
       "<table border=\"1\" class=\"dataframe\">\n",
       "  <thead>\n",
       "    <tr style=\"text-align: right;\">\n",
       "      <th></th>\n",
       "      <th>visitorId</th>\n",
       "      <th>orders</th>\n",
       "    </tr>\n",
       "  </thead>\n",
       "  <tbody>\n",
       "    <tr>\n",
       "      <th>1023</th>\n",
       "      <td>4256040402</td>\n",
       "      <td>11</td>\n",
       "    </tr>\n",
       "    <tr>\n",
       "      <th>591</th>\n",
       "      <td>2458001652</td>\n",
       "      <td>11</td>\n",
       "    </tr>\n",
       "    <tr>\n",
       "      <th>569</th>\n",
       "      <td>2378935119</td>\n",
       "      <td>9</td>\n",
       "    </tr>\n",
       "    <tr>\n",
       "      <th>487</th>\n",
       "      <td>2038680547</td>\n",
       "      <td>8</td>\n",
       "    </tr>\n",
       "    <tr>\n",
       "      <th>44</th>\n",
       "      <td>199603092</td>\n",
       "      <td>5</td>\n",
       "    </tr>\n",
       "    <tr>\n",
       "      <th>...</th>\n",
       "      <td>...</td>\n",
       "      <td>...</td>\n",
       "    </tr>\n",
       "    <tr>\n",
       "      <th>359</th>\n",
       "      <td>1484903144</td>\n",
       "      <td>1</td>\n",
       "    </tr>\n",
       "    <tr>\n",
       "      <th>360</th>\n",
       "      <td>1485964287</td>\n",
       "      <td>1</td>\n",
       "    </tr>\n",
       "    <tr>\n",
       "      <th>361</th>\n",
       "      <td>1494664757</td>\n",
       "      <td>1</td>\n",
       "    </tr>\n",
       "    <tr>\n",
       "      <th>362</th>\n",
       "      <td>1495112755</td>\n",
       "      <td>1</td>\n",
       "    </tr>\n",
       "    <tr>\n",
       "      <th>1030</th>\n",
       "      <td>4283872382</td>\n",
       "      <td>1</td>\n",
       "    </tr>\n",
       "  </tbody>\n",
       "</table>\n",
       "<p>1031 rows × 2 columns</p>\n",
       "</div>"
      ],
      "text/plain": [
       "       visitorId  orders\n",
       "1023  4256040402      11\n",
       "591   2458001652      11\n",
       "569   2378935119       9\n",
       "487   2038680547       8\n",
       "44     199603092       5\n",
       "...          ...     ...\n",
       "359   1484903144       1\n",
       "360   1485964287       1\n",
       "361   1494664757       1\n",
       "362   1495112755       1\n",
       "1030  4283872382       1\n",
       "\n",
       "[1031 rows x 2 columns]"
      ]
     },
     "metadata": {},
     "output_type": "display_data"
    },
    {
     "data": {
      "image/png": "[encoded data removed]",
      "text/plain": [
       "<Figure size 432x288 with 1 Axes>"
      ]
     },
     "metadata": {
      "needs_background": "light"
     },
     "output_type": "display_data"
    }
   ],
   "source": [
    "# сгруппируем по пользователю, чтобы получить количество заказов на пользователя\n",
    "orders_by_users = (\n",
    "    orders.drop(['group', 'revenue', 'date'], axis=1)\n",
    "    .groupby('visitorId', as_index=False)\n",
    "    .agg({'transactionId': 'nunique'})\n",
    ")\n",
    "orders_by_users.columns = ['visitorId', 'orders']\n",
    "\n",
    "display(orders_by_users.sort_values(by='orders', ascending=False))\n",
    "\n",
    "plt.hist(orders_by_users['orders'])\n",
    "plt.title('Гистограмма количества заказов на пользователя')\n",
    "plt.show()"
   ]
  },
  {
   "cell_type": "markdown",
   "metadata": {},
   "source": [
    "***На гистограмме видно что большая часть пользователей заказывала 1-2 раза, но и 3-4 заказа хоть и меньше но тоже котируются и подойдут для дальнейшего исследования, видим также и 8 и 9 и 11 заказов на пользователя.***"
   ]
  },
  {
   "cell_type": "code",
   "execution_count": 18,
   "metadata": {},
   "outputs": [
    {
     "data": {
      "image/png": "[encoded data removed]",
      "text/plain": [
       "<Figure size 432x288 with 1 Axes>"
      ]
     },
     "metadata": {
      "needs_background": "light"
     },
     "output_type": "display_data"
    },
    {
     "name": "stdout",
     "output_type": "stream",
     "text": [
      "Процентили 95 и 99 количества заказов [2. 4.]\n"
     ]
    }
   ],
   "source": [
    "# построим точечную диаграмму числа заказов на пользователя, и посмотри процентили 95 и 99\n",
    "x = pd.Series(range(0, len(orders_by_users)))\n",
    "plt.scatter(x, orders_by_users['orders'])\n",
    "plt.title('Точечная диаграмма количества заказов на 1 пользователя')\n",
    "plt.show()\n",
    "\n",
    "percentiles = np.percentile(orders_by_users['orders'], [95,99])\n",
    "print('Процентили 95 и 99 количества заказов', percentiles)"
   ]
  },
  {
   "cell_type": "markdown",
   "metadata": {},
   "source": [
    "***Точечная диаграмма подтвердила что большинство пользователей сделали по 1 заказу, также 2-3 заказа тоже часто встречаются. Согласно процентилям лишь 1% аудитории сделали 4 заказа, 5 процентов аудитории выбрали более 2 заказов, следовательно стоит установить границу для аномалий -> *2 или 3* ***"
   ]
  },
  {
   "cell_type": "code",
   "execution_count": 19,
   "metadata": {},
   "outputs": [
    {
     "data": {
      "image/png": "[encoded data removed]",
      "text/plain": [
       "<Figure size 432x288 with 1 Axes>"
      ]
     },
     "metadata": {
      "needs_background": "light"
     },
     "output_type": "display_data"
    },
    {
     "data": {
      "image/png": "[encoded data removed]",
      "text/plain": [
       "<Figure size 432x288 with 1 Axes>"
      ]
     },
     "metadata": {
      "needs_background": "light"
     },
     "output_type": "display_data"
    },
    {
     "data": {
      "image/png": "[encoded data removed]",
      "text/plain": [
       "<Figure size 432x288 with 1 Axes>"
      ]
     },
     "metadata": {
      "needs_background": "light"
     },
     "output_type": "display_data"
    },
    {
     "name": "stdout",
     "output_type": "stream",
     "text": [
      "Процентили 95 и 99 стоимостей заказов [28000.  58233.2]\n"
     ]
    }
   ],
   "source": [
    "# построим точечную диаграмму стоимостей заказов и найдем процентили 95 и 99\n",
    "plt.hist(orders['revenue'], bins=30)\n",
    "plt.title('Гистограмма стоимостей заказов')\n",
    "plt.xlim(0,201000)\n",
    "plt.show()\n",
    "x_revenue = pd.Series(range(0, len(orders['revenue'])))\n",
    "plt.scatter(x_revenue, orders['revenue'])\n",
    "plt.title('Точечная диаграмма стоимостей заказов')\n",
    "plt.show()\n",
    "\n",
    "plt.scatter(x_revenue, orders['revenue'])\n",
    "plt.ylim(0,30000)\n",
    "plt.title('Точечная диаграмма стоимостей заказов, с ограничением аномальной стоимости, для наглядности')\n",
    "plt.show()\n",
    "\n",
    "percentiles_rev = np.percentile(orders['revenue'], [95,99])\n",
    "print('Процентили 95 и 99 стоимостей заказов', percentiles_rev)\n",
    "\n",
    "\n"
   ]
  },
  {
   "cell_type": "markdown",
   "metadata": {},
   "source": [
    "***На гистаграмме видно что есть заказы превышающие 75000 в цене и даже до 200000. Остальные заказы находятся в диапозоне от 0 до 40000. На точечном графике видно, что есть заказ дороже миллиона, он то нам статистику и портит. Данные перцентилей говорят ято 1 процент заказов стоил свыше 58 тысяч, а 5 процентов стоили выше 28000, стало быть и границу выберем в | 28 - 30 тысяч |***\n",
    "\n",
    "\n",
    "#### Границы аномалий: цена выше 28 000, количество заказов выше 2"
   ]
  },
  {
   "cell_type": "markdown",
   "metadata": {},
   "source": [
    "<a id=\"p4\"></a>\n",
    "### 10. Статистическая значимость различий в конверсии между группами по «сырым» данным. \n",
    "### 11. Статистическая значимость различий в среднем чеке заказа между группами по «сырым» данным.\n",
    "### 12. Статистическая значимость различий в конверсии между группами по «очищенным» данным.\n",
    "### 13. Статистическая значимость различий в среднем чеке заказа между группами по «очищенным» данным."
   ]
  },
  {
   "cell_type": "code",
   "execution_count": 20,
   "metadata": {},
   "outputs": [
    {
     "data": {
      "text/html": [
       "<div>\n",
       "<style scoped>\n",
       "    .dataframe tbody tr th:only-of-type {\n",
       "        vertical-align: middle;\n",
       "    }\n",
       "\n",
       "    .dataframe tbody tr th {\n",
       "        vertical-align: top;\n",
       "    }\n",
       "\n",
       "    .dataframe thead th {\n",
       "        text-align: right;\n",
       "    }\n",
       "</style>\n",
       "<table border=\"1\" class=\"dataframe\">\n",
       "  <thead>\n",
       "    <tr style=\"text-align: right;\">\n",
       "      <th></th>\n",
       "      <th>date</th>\n",
       "      <th>orders_per_dateA</th>\n",
       "      <th>revenue_per_dateA</th>\n",
       "      <th>orders_per_dateB</th>\n",
       "      <th>revenue_per_dateB</th>\n",
       "      <th>orders_cummulativeA</th>\n",
       "      <th>revenue_cummulativeA</th>\n",
       "      <th>orders_cummulativeB</th>\n",
       "      <th>revenue_cummulativeB</th>\n",
       "      <th>visitors_per_dateA</th>\n",
       "      <th>visitors_per_dateB</th>\n",
       "      <th>visitors_cummulativeA</th>\n",
       "      <th>visitors_cummulativeB</th>\n",
       "    </tr>\n",
       "  </thead>\n",
       "  <tbody>\n",
       "    <tr>\n",
       "      <th>0</th>\n",
       "      <td>2019-08-01</td>\n",
       "      <td>24</td>\n",
       "      <td>148579</td>\n",
       "      <td>21</td>\n",
       "      <td>101217</td>\n",
       "      <td>24</td>\n",
       "      <td>148579</td>\n",
       "      <td>21</td>\n",
       "      <td>101217</td>\n",
       "      <td>719</td>\n",
       "      <td>713</td>\n",
       "      <td>719</td>\n",
       "      <td>713</td>\n",
       "    </tr>\n",
       "    <tr>\n",
       "      <th>1</th>\n",
       "      <td>2019-08-02</td>\n",
       "      <td>20</td>\n",
       "      <td>93822</td>\n",
       "      <td>24</td>\n",
       "      <td>165531</td>\n",
       "      <td>44</td>\n",
       "      <td>242401</td>\n",
       "      <td>45</td>\n",
       "      <td>266748</td>\n",
       "      <td>619</td>\n",
       "      <td>581</td>\n",
       "      <td>1338</td>\n",
       "      <td>1294</td>\n",
       "    </tr>\n",
       "    <tr>\n",
       "      <th>2</th>\n",
       "      <td>2019-08-03</td>\n",
       "      <td>24</td>\n",
       "      <td>112473</td>\n",
       "      <td>16</td>\n",
       "      <td>114248</td>\n",
       "      <td>68</td>\n",
       "      <td>354874</td>\n",
       "      <td>61</td>\n",
       "      <td>380996</td>\n",
       "      <td>507</td>\n",
       "      <td>509</td>\n",
       "      <td>1845</td>\n",
       "      <td>1803</td>\n",
       "    </tr>\n",
       "    <tr>\n",
       "      <th>3</th>\n",
       "      <td>2019-08-04</td>\n",
       "      <td>16</td>\n",
       "      <td>70825</td>\n",
       "      <td>17</td>\n",
       "      <td>108571</td>\n",
       "      <td>84</td>\n",
       "      <td>425699</td>\n",
       "      <td>78</td>\n",
       "      <td>489567</td>\n",
       "      <td>717</td>\n",
       "      <td>770</td>\n",
       "      <td>2562</td>\n",
       "      <td>2573</td>\n",
       "    </tr>\n",
       "    <tr>\n",
       "      <th>4</th>\n",
       "      <td>2019-08-05</td>\n",
       "      <td>25</td>\n",
       "      <td>124218</td>\n",
       "      <td>23</td>\n",
       "      <td>92428</td>\n",
       "      <td>109</td>\n",
       "      <td>549917</td>\n",
       "      <td>101</td>\n",
       "      <td>581995</td>\n",
       "      <td>756</td>\n",
       "      <td>707</td>\n",
       "      <td>3318</td>\n",
       "      <td>3280</td>\n",
       "    </tr>\n",
       "    <tr>\n",
       "      <th>5</th>\n",
       "      <td>2019-08-06</td>\n",
       "      <td>18</td>\n",
       "      <td>48484</td>\n",
       "      <td>28</td>\n",
       "      <td>242342</td>\n",
       "      <td>127</td>\n",
       "      <td>598401</td>\n",
       "      <td>129</td>\n",
       "      <td>824337</td>\n",
       "      <td>667</td>\n",
       "      <td>655</td>\n",
       "      <td>3985</td>\n",
       "      <td>3935</td>\n",
       "    </tr>\n",
       "    <tr>\n",
       "      <th>6</th>\n",
       "      <td>2019-08-07</td>\n",
       "      <td>18</td>\n",
       "      <td>142417</td>\n",
       "      <td>24</td>\n",
       "      <td>225334</td>\n",
       "      <td>145</td>\n",
       "      <td>740818</td>\n",
       "      <td>153</td>\n",
       "      <td>1049671</td>\n",
       "      <td>644</td>\n",
       "      <td>709</td>\n",
       "      <td>4629</td>\n",
       "      <td>4644</td>\n",
       "    </tr>\n",
       "    <tr>\n",
       "      <th>7</th>\n",
       "      <td>2019-08-08</td>\n",
       "      <td>16</td>\n",
       "      <td>96279</td>\n",
       "      <td>27</td>\n",
       "      <td>220918</td>\n",
       "      <td>161</td>\n",
       "      <td>837097</td>\n",
       "      <td>180</td>\n",
       "      <td>1270589</td>\n",
       "      <td>610</td>\n",
       "      <td>654</td>\n",
       "      <td>5239</td>\n",
       "      <td>5298</td>\n",
       "    </tr>\n",
       "    <tr>\n",
       "      <th>8</th>\n",
       "      <td>2019-08-09</td>\n",
       "      <td>16</td>\n",
       "      <td>188506</td>\n",
       "      <td>25</td>\n",
       "      <td>160812</td>\n",
       "      <td>177</td>\n",
       "      <td>1025603</td>\n",
       "      <td>205</td>\n",
       "      <td>1431401</td>\n",
       "      <td>617</td>\n",
       "      <td>610</td>\n",
       "      <td>5856</td>\n",
       "      <td>5908</td>\n",
       "    </tr>\n",
       "    <tr>\n",
       "      <th>9</th>\n",
       "      <td>2019-08-10</td>\n",
       "      <td>16</td>\n",
       "      <td>210495</td>\n",
       "      <td>23</td>\n",
       "      <td>107802</td>\n",
       "      <td>193</td>\n",
       "      <td>1236098</td>\n",
       "      <td>228</td>\n",
       "      <td>1539203</td>\n",
       "      <td>406</td>\n",
       "      <td>369</td>\n",
       "      <td>6262</td>\n",
       "      <td>6277</td>\n",
       "    </tr>\n",
       "  </tbody>\n",
       "</table>\n",
       "</div>"
      ],
      "text/plain": [
       "        date  orders_per_dateA  revenue_per_dateA  orders_per_dateB  \\\n",
       "0 2019-08-01                24             148579                21   \n",
       "1 2019-08-02                20              93822                24   \n",
       "2 2019-08-03                24             112473                16   \n",
       "3 2019-08-04                16              70825                17   \n",
       "4 2019-08-05                25             124218                23   \n",
       "5 2019-08-06                18              48484                28   \n",
       "6 2019-08-07                18             142417                24   \n",
       "7 2019-08-08                16              96279                27   \n",
       "8 2019-08-09                16             188506                25   \n",
       "9 2019-08-10                16             210495                23   \n",
       "\n",
       "   revenue_per_dateB  orders_cummulativeA  revenue_cummulativeA  \\\n",
       "0             101217                   24                148579   \n",
       "1             165531                   44                242401   \n",
       "2             114248                   68                354874   \n",
       "3             108571                   84                425699   \n",
       "4              92428                  109                549917   \n",
       "5             242342                  127                598401   \n",
       "6             225334                  145                740818   \n",
       "7             220918                  161                837097   \n",
       "8             160812                  177               1025603   \n",
       "9             107802                  193               1236098   \n",
       "\n",
       "   orders_cummulativeB  revenue_cummulativeB  visitors_per_dateA  \\\n",
       "0                   21                101217                 719   \n",
       "1                   45                266748                 619   \n",
       "2                   61                380996                 507   \n",
       "3                   78                489567                 717   \n",
       "4                  101                581995                 756   \n",
       "5                  129                824337                 667   \n",
       "6                  153               1049671                 644   \n",
       "7                  180               1270589                 610   \n",
       "8                  205               1431401                 617   \n",
       "9                  228               1539203                 406   \n",
       "\n",
       "   visitors_per_dateB  visitors_cummulativeA  visitors_cummulativeB  \n",
       "0                 713                    719                    713  \n",
       "1                 581                   1338                   1294  \n",
       "2                 509                   1845                   1803  \n",
       "3                 770                   2562                   2573  \n",
       "4                 707                   3318                   3280  \n",
       "5                 655                   3985                   3935  \n",
       "6                 709                   4629                   4644  \n",
       "7                 654                   5239                   5298  \n",
       "8                 610                   5856                   5908  \n",
       "9                 369                   6262                   6277  "
      ]
     },
     "metadata": {},
     "output_type": "display_data"
    }
   ],
   "source": [
    "#визиты по дням A и В\n",
    "visitorsA_daily = visits[visits['group']=='A'][['date', 'visitors']]\n",
    "visitorsA_daily.columns = ['date', 'visitors_per_dateA']\n",
    "visitorsB_daily = visits[visits['group']=='B'][['date', 'visitors']]\n",
    "visitorsB_daily.columns = ['date', 'visitors_per_dateB']\n",
    "#коммулятивные данные А и В\n",
    "visitors_Acummulative = visitorsA_daily.apply(lambda x: visitorsA_daily[visitorsA_daily['date'] <= x['date']].agg(\n",
    "    {'date' : 'max', 'visitors_per_dateA' : 'sum'}), axis=1)\n",
    "visitors_Acummulative.columns = ['date', 'visitors_cummulativeA']\n",
    "visitors_Bcummulative = visitorsB_daily.apply(lambda x: visitorsB_daily[visitorsB_daily['date'] <= x['date']].agg(\n",
    "    {'date' : 'max', 'visitors_per_dateB' : 'sum'}), axis=1)\n",
    "visitors_Bcummulative.columns = ['date', 'visitors_cummulativeB']\n",
    "\n",
    "ordersA_daily = orders[orders['group']=='A'][['date', 'transactionId', 'visitorId', 'revenue']]\\\n",
    "    .groupby('date', as_index=False)\\\n",
    "    .agg({'transactionId' : 'nunique', 'revenue' : 'sum'})\n",
    "ordersA_daily.columns = ['date', 'orders_per_dateA', 'revenue_per_dateA']\n",
    "\n",
    "ordersB_daily = orders[orders['group']=='B'][['date', 'transactionId', 'visitorId', 'revenue']]\\\n",
    "    .groupby('date', as_index=False)\\\n",
    "    .agg({'transactionId' : 'nunique', 'revenue' : 'sum'})\n",
    "ordersB_daily.columns = ['date', 'orders_per_dateB', 'revenue_per_dateB']\n",
    "\n",
    "orders_Acummulative = ordersA_daily.apply(\n",
    "    lambda x: ordersA_daily[ordersA_daily['date'] <= x['date']].agg(\n",
    "        {'date' : 'max',\n",
    "        'orders_per_dateA' : 'sum',\n",
    "        'revenue_per_dateA' : 'sum'}), axis=1).sort_values(by=['date'])\n",
    "orders_Acummulative.columns = ['date', 'orders_cummulativeA', 'revenue_cummulativeA']\n",
    "\n",
    "orders_Bcummulative = ordersB_daily.apply(\n",
    "    lambda x: ordersB_daily[ordersB_daily['date'] <= x['date']].agg(\n",
    "        {'date' : 'max',\n",
    "        'orders_per_dateB' : 'sum',\n",
    "        'revenue_per_dateB' : 'sum'}), axis=1).sort_values(by=['date'])\n",
    "\n",
    "orders_Bcummulative.columns = ['date', 'orders_cummulativeB', 'revenue_cummulativeB']\n",
    "\n",
    "total_data = ordersA_daily.merge(ordersB_daily, on = 'date', how='left').merge(\n",
    "    orders_Acummulative, on = 'date', how='left').merge(\n",
    "    orders_Bcummulative, on = 'date', how='left').merge(\n",
    "    visitorsA_daily, on = 'date', how='left').merge(\n",
    "    visitorsB_daily, on = 'date', how='left').merge(\n",
    "    visitors_Acummulative, on = 'date', how='left').merge(\n",
    "    visitors_Bcummulative, on = 'date', how='left')\n",
    "display(total_data.head(10))"
   ]
  },
  {
   "cell_type": "markdown",
   "metadata": {},
   "source": [
    "#### Описание данных total_data\n",
    "    date — дата;\n",
    "    orders_per_dateA — количество заказов в выбранную дату в группе A;\n",
    "    revenue_per_dateA — суммарная выручка в выбранную дату в группе A;\n",
    "    orders_per_dateB — количество заказов в выбранную дату в группе B;\n",
    "    revenue_per_dateB — суммарная выручка в выбранную дату в группе B;\n",
    "    orders_cummulativeA — суммарное число заказов до выбранной даты включительно в группе A;\n",
    "    revenue_cummulativeA — суммарная выручка до выбранной даты включительно в группе A;\n",
    "    orders_cummulativeB — суммарное количество заказов до выбранной даты включительно в группе B;\n",
    "    revenue_cummulativeB — суммарная выручка до выбранной даты включительно в группе B;\n",
    "    visitors_per_dateA — количество пользователей в выбранную дату в группе A;\n",
    "    visitors_per_dateB — количество пользователей в выбранную дату в группе B;\n",
    "    visitors_cummulativeA — количество пользователей до выбранной даты включительно в группе A;\n",
    "    visitors_cummulativeB — количество пользователей до выбранной даты включительно в группе B.\n"
   ]
  },
  {
   "cell_type": "code",
   "execution_count": 21,
   "metadata": {},
   "outputs": [],
   "source": [
    "# Посчитаем статистическую значимость различия в конверсии между группами.\n",
    "# Сделаем две группировки по А и В и сосчитаем кто заказывал хотябы 1 раз\n",
    "\n",
    "#REMEMBER ME\n",
    "#VISITS['date', 'group', 'visitors']\n",
    "#ORDERS ['transactionId', 'visitorId', 'date', 'revenue', 'group']\n",
    "\n",
    "ordersByUsersA = orders[orders['group']=='A'].groupby('visitorId', as_index=False).agg(\n",
    "    {'transactionId' : 'nunique'})\n",
    "ordersByUsersA.columns = ['userId', 'orders']\n",
    "\n",
    "ordersByUsersB = orders[orders['group']=='B'].groupby('visitorId', as_index=False).agg(\n",
    "    {'transactionId' : 'nunique'})\n",
    "ordersByUsersB.columns = ['userId', 'orders']\n",
    "\n",
    "# Объявим переменные sampleA и sampleB, в которых пользователям из разных групп будет соответствовать количество заказов. \n",
    "# Тем, кто ничего не заказал, будут соответствовать нули.\n",
    "# Чтобы подготовить выборки к проверке критерием Манна-Уитни.\n",
    "sampleA = pd.concat([ordersByUsersA['orders'],pd.Series(0, index=np.arange(total_data['visitors_per_dateA'].sum() - len(ordersByUsersA['orders'])), name='orders')],axis=0)\n",
    "\n",
    "sampleB = pd.concat([ordersByUsersB['orders'],pd.Series(0, index=np.arange(total_data['visitors_per_dateB'].sum() - len(ordersByUsersB['orders'])), name='orders')],axis=0) "
   ]
  },
  {
   "cell_type": "code",
   "execution_count": 22,
   "metadata": {},
   "outputs": [],
   "source": [
    "# напишем фугкцию для проверки гипотез\n",
    "def check_hypotese(sampA, sampB, alpha, subject):\n",
    "    \"\"\"Функция принимает 4 аргумента это 2 набора данных,\n",
    "        уровень статистической значимости alpha и subject это предмет изучения.\n",
    "        Возвращает расчитанный p-value и относительную разницу данных выборок\"\"\"\n",
    "    p_value = st.mannwhitneyu(sampA, sampB, alternative = 'two-sided')[1]\n",
    "    diff = sampB.mean()/sampA.mean() - 1\n",
    "    print('{0} p-value = {1:.3f}'.format(subject, p_value))\n",
    "    print('Относительная разница {0} = {1:.3f}'.format(subject, diff))\n",
    "    if p_value < alpha:\n",
    "        return display('Нулеваая гипотезу стоит отвергнуть')\n",
    "    else:\n",
    "        return display('Нулевую гипотезу отврегать не стоит')\n",
    "    "
   ]
  },
  {
   "cell_type": "markdown",
   "metadata": {},
   "source": [
    "### Формулировка гипотез для критерия Мана Уитни(конверсии):\n",
    "\n",
    "#### Ho \"Статистически значимых отличий в конверсии между группами нет\"\n",
    "#### H1 \"Статистически значимые отличия в конверсии есть\""
   ]
  },
  {
   "cell_type": "code",
   "execution_count": 23,
   "metadata": {},
   "outputs": [
    {
     "name": "stdout",
     "output_type": "stream",
     "text": [
      "Конверсия p-value = 0.017\n",
      "Относительная разница Конверсия = 0.138\n"
     ]
    },
    {
     "data": {
      "text/plain": [
       "'Нулеваая гипотезу стоит отвергнуть'"
      ]
     },
     "metadata": {},
     "output_type": "display_data"
    }
   ],
   "source": [
    "# вызовем функции проверки гипотезы\n",
    "check_hypotese(sampleA, sampleB, 0.05, 'Конверсия')"
   ]
  },
  {
   "cell_type": "markdown",
   "metadata": {},
   "source": [
    "1. ***Вывод по статичтической значимости конверсии, Ман Уинти меньше уровня стат значимости в 0.05, а значит нулевую гипотезу о том, что статистически значимых различий в конверсии между группами нет, отвергаем.***\n",
    "2. ***Относительный выигрыш группы В равен 13,8 процентам.***\n",
    "\n",
    "#### Нулевая гипотеза отвергнута"
   ]
  },
  {
   "cell_type": "markdown",
   "metadata": {},
   "source": [
    "### Формулировка гипотез для критерия Мана Уитни(средний чек):\n",
    "\n",
    "#### Ho \"Статистически значимых отличий в среднем чеке между группами нет\"\n",
    "#### H1 \"Статистически значимые отличия в среднем чеке есть\""
   ]
  },
  {
   "cell_type": "code",
   "execution_count": 24,
   "metadata": {},
   "outputs": [
    {
     "name": "stdout",
     "output_type": "stream",
     "text": [
      "Средний чек p-value = 0.729\n",
      "Относительная разница Средний чек = 0.259\n"
     ]
    },
    {
     "data": {
      "text/plain": [
       "'Нулевую гипотезу отврегать не стоит'"
      ]
     },
     "metadata": {},
     "output_type": "display_data"
    }
   ],
   "source": [
    "# найдем относительные отличия в среднем чеке\n",
    "\n",
    "sampA,sampB = orders[orders['group']=='A']['revenue'], orders[orders['group']=='B']['revenue']\n",
    "check_hypotese(sampA, sampB, 0.05, 'Средний чек')"
   ]
  },
  {
   "cell_type": "markdown",
   "metadata": {},
   "source": [
    "1. ***P-value больше чем 0.05. Значит, причин отвергать нулевую гипотезу и считать, что в среднем чеке есть различия, нет.***\n",
    "2. ***Впрочем, средний чек группы B значительно выше среднего чека группы A.***\n",
    "\n",
    "#### Нулевая гипотеза принята не отвергнута"
   ]
  },
  {
   "cell_type": "code",
   "execution_count": 25,
   "metadata": {},
   "outputs": [
    {
     "data": {
      "text/plain": [
       "1099    148427295\n",
       "18      199603092\n",
       "928     204675465\n",
       "23      237748145\n",
       "37      249864742\n",
       "684     358944393\n",
       "648     382846391\n",
       "1189    393266494\n",
       "68      457167155\n",
       "68      611059232\n",
       "dtype: int64"
      ]
     },
     "metadata": {},
     "output_type": "display_data"
    },
    {
     "name": "stdout",
     "output_type": "stream",
     "text": [
      "Аномальных пользователей = 74\n"
     ]
    }
   ],
   "source": [
    "# 95-й и 99-й перцентили средних чеков равны 28 000 и 58 000.\n",
    "# А 95-й и 99-й перцентили количества заказов на одного пользователя равны 2 и 4.\n",
    "usersWithManyOrders = pd.concat([ordersByUsersA[ordersByUsersA['orders'] > 2]['userId'], ordersByUsersB[ordersByUsersB['orders'] > 2]['userId']],\n",
    "                                axis = 0)\n",
    "usersWithExpensiveOrders = orders[orders['revenue'] > 28000]['visitorId']\n",
    "abnormalUsers = pd.concat([usersWithManyOrders, usersWithExpensiveOrders],\n",
    "                          axis = 0).drop_duplicates().sort_values()\n",
    "display(abnormalUsers.head(10))\n",
    "print('Аномальных пользователей =',abnormalUsers.shape[0])"
   ]
  },
  {
   "cell_type": "markdown",
   "metadata": {},
   "source": [
    "### Формулировка гипотез для критерия Мана Уитни в аномальных данных(Конверсии):\n",
    "\n",
    "#### Ho \"Статистически значимых отличий в конверсии аномальных данных между группами нет\"\n",
    "#### H1 \"Статистически значимые отличия в конверсии аномальных данных чеке есть\""
   ]
  },
  {
   "cell_type": "code",
   "execution_count": 26,
   "metadata": {},
   "outputs": [
    {
     "name": "stdout",
     "output_type": "stream",
     "text": [
      "Конверсии Аномалии p-value = 0.013\n",
      "Относительная разница Конверсии Аномалии = 0.173\n"
     ]
    },
    {
     "data": {
      "text/plain": [
       "'Нулеваая гипотезу стоит отвергнуть'"
      ]
     },
     "metadata": {},
     "output_type": "display_data"
    }
   ],
   "source": [
    "# Посчитаем стат значимость конверсии в очищенных данных\n",
    "sampleAFiltered = pd.concat([ordersByUsersA[np.logical_not(ordersByUsersA['userId'].isin(abnormalUsers))]['orders'],pd.Series(0, index=np.arange(total_data['visitors_per_dateA'].sum() - len(ordersByUsersA['orders'])),name='orders')],axis=0)\n",
    "sampleBFiltered = pd.concat([ordersByUsersB[np.logical_not(ordersByUsersB['userId'].isin(abnormalUsers))]['orders'],pd.Series(0, index=np.arange(total_data['visitors_per_dateB'].sum() - len(ordersByUsersB['orders'])),name='orders')],axis=0)\n",
    "\n",
    "check_hypotese(sampleAFiltered, sampleBFiltered, 0.05, 'Конверсии Аномалии')"
   ]
  },
  {
   "cell_type": "markdown",
   "metadata": {},
   "source": [
    "***Уровень стат значимости практически не изменился, при этом относительный выигрыш группы В вырос  на 3.8 процента. Не сказать что результаты по конверсии сильно изменились нулевая гипотеза о том что различий нет, по прежнему отвергается***\n",
    "\n",
    "#### Нулевая гипотеза отвергнута"
   ]
  },
  {
   "cell_type": "markdown",
   "metadata": {},
   "source": [
    "### Формулировка гипотез для критерия Мана Уитни в аномальных данных(Средний чек):\n",
    "\n",
    "#### Ho \"Статистически значимых отличий в среднем чеке аномальных данных между группами нет\"\n",
    "#### H1 \"Статистически значимые отличия в среднем чеке аномальных данных чеке есть\""
   ]
  },
  {
   "cell_type": "code",
   "execution_count": 27,
   "metadata": {},
   "outputs": [
    {
     "name": "stdout",
     "output_type": "stream",
     "text": [
      "Средний чек Аномалии p-value = 0.738\n",
      "Относительная разница Средний чек Аномалии = -0.020\n"
     ]
    },
    {
     "data": {
      "text/plain": [
       "'Нулевую гипотезу отврегать не стоит'"
      ]
     },
     "metadata": {},
     "output_type": "display_data"
    }
   ],
   "source": [
    "\n",
    "sampA = orders[np.logical_and(orders['group']=='A',np.logical_not(orders['visitorId'].isin(abnormalUsers)))]['revenue']\n",
    "\n",
    "sampB = orders[np.logical_and(orders['group']=='B',np.logical_not(orders['visitorId'].isin(abnormalUsers)))]['revenue']\n",
    "\n",
    "check_hypotese(sampA, sampB, 0.05, 'Средний чек Аномалии')\n"
   ]
  },
  {
   "cell_type": "markdown",
   "metadata": {},
   "source": [
    "***p-value остался практически таким же что и в сырых данных, а вот отношение среднего чека между сегментами упало значительно на 28 процентов. Удивительно но при том же уровне значимости, относительная разница средних чеков перевалил в пользу группы А. Тест Мана Уинти не чувствителен к аномальным данным.***\n",
    "#### Нулевая гипотеза не отвергнута"
   ]
  },
  {
   "attachments": {
    "image-3.png": {
     "image/png": "[encoded data removed]"
    },
    "image-4.png": {
     "image/png": "[encoded data removed]"
    }
   },
   "cell_type": "markdown",
   "metadata": {},
   "source": [
    "<a id=\"total\"></a>\n",
    "# Общие вывод по проекту\n",
    "\n",
    "### ЧАСТЬ I. Приоритарность гипотез\n",
    "1. ICE показал приритет гиппотез в таком порядке: Запустить акцию, дающую скидку на товар в день рождения.\n",
    "Добавить два новых канала привлечения трафика, что позволит привлекать на 30% больше пользователей.\n",
    "Добавить форму подписки на все основные страницы, чтобы собрать базу клиентов для email-рассылок.\n",
    "\n",
    "2. RICE показал другой приоритет: Добавить форму подписки на все основные страницы, чтобы собрать базу клиентов для email-рассылок.\n",
    "Добавить блоки рекомендаций товаров на сайт интернет магазина, чтобы повысить конверсию и средний чек заказа.\n",
    "Добавить два новых канала привлечения трафика, что позволит привлекать на 30% больше пользователей.\n",
    "\n",
    "3. Приоретизация в случае RICE изменилась и вот почему:\n",
    "    - ICE не учитывает параметр REACH, поэтому акция в день рождения лидирует в ICE ведь это заденет лишь 1 человека, здесь и ICE и RICE имеют равный показатель, а в случае с RICE она занимает лишь 5 место.\n",
    "    - 3-е место в ICE занимает добавление формы подписки чтобы собрать базу клиентов, опять же здесь параметр REACH дает 10ти кратное уножение в пользу этой гипотезы в случае с RICE при техже условиях эта гипотеза первая в списке.\n",
    "    - В случае с добавлением двух новых каналов трафика и привлечь 30% пользователей, в случае с ICE это вторая по значимости гипотеза так как ее показатели влияния на пользователя 10 и уверненность 8 при стоимости в 6, в тоже время эта гипотеза занимает третье место в RICE и к ее показателям добавляется REACH и это еще 3 единицы в пользу такой гипотезы.\n",
    "    - В случае с добавлением блока рекомендаций товаров на сайт магазина, чтобы повысить конверсию, в ICE это 4 место а в случае с RICE второе, дело в том что это изменение не сильно повлияет на пользователей, однако уверенность в нем высокая а стоимость дешевая. При количестве REACH в 8 эта гипотеза занимает честное второе место в RICE.\n",
    "\n",
    "***Общий вывод при высоких Impact Confidence и низком Efforts, гипотеза по версии ICE всегда будет лидировать, но если REACH при этом 1 то при таких же условиях другой гипотезы и REACH больше хотябы на 1, гипотеза по версии RICE станет приоритетной***\n",
    "\n",
    "## ЧАСТЬ II. Аналитика A/B теста\n",
    "\n",
    "Итак что мы имеем факты:\n",
    "1. Уровень статистической значимости конверсий не изменился по сравнению сырых данных и филтрованных от аномалий. Нулевая гипотеза отвергнута.\n",
    "2. Статистически значимого различия между сырым средним чеком и фильтрованным также не было обнаружено, хотя и в аномальных данных отношения среднего чека перевалило в пользу А, просто тест Мана Уитни не чувствителен к выбросам аномальным. А вот отношения прироста В чека был уменьшен на более 4 процента по сравнению с сырыми данными.\n",
    "3. График отличия конверсий по группам сообщает что результаты В выглядят лучше и есть тенденция к улучшению, в начале есть отрицательные значения, но затем конверсия В приобладает.\n",
    "![image-4.png](attachment:image-4.png)\n",
    "4. График различия среднего чека говорит о том, что группа В сначала был стремительный рост, падение и затем рост в 1,5 раза выше предыдущего максимума. Еще одно очко в пользу группы В.\n",
    "![image-3.png](attachment:image-3.png)\n",
    "\n",
    "\n",
    "**Исходя из обнаруженных фактов и времени затраченного на тестирование: предлагаю остановить тест и зафиксировать победу группы В**"
   ]
  },
  {
   "cell_type": "code",
   "execution_count": null,
   "metadata": {},
   "outputs": [],
   "source": []
  }
 ],
 "metadata": {
  "kernelspec": {
   "display_name": "Python 3",
   "language": "python",
   "name": "python3"
  },
  "language_info": {
   "codemirror_mode": {
    "name": "ipython",
    "version": 3
   },
   "file_extension": ".py",
   "mimetype": "text/x-python",
   "name": "python",
   "nbconvert_exporter": "python",
   "pygments_lexer": "ipython3",
   "version": "3.8.8"
  },
  "toc": {
   "base_numbering": 1,
   "nav_menu": {},
   "number_sections": true,
   "sideBar": true,
   "skip_h1_title": true,
   "title_cell": "Table of Contents",
   "title_sidebar": "Contents",
   "toc_cell": false,
   "toc_position": {},
   "toc_section_display": true,
   "toc_window_display": false
  }
 },
 "nbformat": 4,
 "nbformat_minor": 4
}
